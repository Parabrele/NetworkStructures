{
 "cells": [
  {
   "cell_type": "code",
   "execution_count": 101,
   "metadata": {},
   "outputs": [
    {
     "name": "stdout",
     "output_type": "stream",
     "text": [
      "gpu38-008\n"
     ]
    }
   ],
   "source": [
    "import os\n",
    "print(os.environ.get(\"HOSTNAME\"))\n",
    "\n",
    "import time"
   ]
  },
  {
   "cell_type": "code",
   "execution_count": 102,
   "metadata": {},
   "outputs": [],
   "source": [
    "import sys\n",
    "# sys.path.append(\"./NetworkStructures/\") # /!\\ Comment out if \".\" is not home directory in goethe's cluster.\n",
    "\n",
    "import torch\n",
    "from transformers import logging\n",
    "logging.set_verbosity_error()\n",
    "from tqdm import tqdm\n",
    "\n",
    "DEVICE = torch.device(\"cuda\" if torch.cuda.is_available() else \"cpu\")"
   ]
  },
  {
   "cell_type": "code",
   "execution_count": 103,
   "metadata": {},
   "outputs": [],
   "source": [
    "from connectivity.effective import get_circuit_feature\n",
    "\n",
    "from evaluation.faithfulness import faithfulness as faithfulness_fn\n",
    "\n",
    "from data.buffer import unpack_batch\n",
    "\n",
    "from utils.ablation_fns import zero_ablation, mean_ablation, id_ablation\n",
    "from utils.savior import save_circuit\n",
    "from utils.plotting import plot_faithfulness\n",
    "from utils.metric_fns import metric_fn_logit, metric_fn_KL, metric_fn_statistical_distance, metric_fn_acc, metric_fn_MRR\n",
    "from utils.experiments_setup import load_model_and_modules, load_saes, get_architectural_graph\n",
    "\n",
    "import math"
   ]
  },
  {
   "cell_type": "code",
   "execution_count": 104,
   "metadata": {},
   "outputs": [],
   "source": [
    "class single_input_buffer:\n",
    "    def __init__(self, model, batch_size, device, ctx_len=None, perm=None):\n",
    "        self.model = model\n",
    "        self.batch_size = batch_size\n",
    "        self.device = device\n",
    "        self.ctx_len = ctx_len\n",
    "        self.data = {\n",
    "            \"clean\": [\"When Mary and John went to the store, John gave a glass to\"],\n",
    "            \"good\": [[\" Mary\"]],\n",
    "            \"corr\": [\"When Mary and John went to the store, Paul gave a glass to\"],\n",
    "            \"bad\": [[\" John\"]],\n",
    "        }\n",
    "        self.done = False\n",
    "\n",
    "    def __iter__(self):\n",
    "        return self\n",
    "\n",
    "    def __next__(self):\n",
    "        if self.done:\n",
    "            raise StopIteration\n",
    "        self.done = True\n",
    "        tk = self.model.tokenizer\n",
    "        clean_tokens = tk(self.data[\"clean\"], return_tensors='pt', padding=True, return_attention_mask=False, return_token_type_ids=False)['input_ids'].to(self.device)\n",
    "        trg_idx = torch.zeros(clean_tokens.size(0), device=clean_tokens.device).long() - 1\n",
    "        trg = []\n",
    "        for i, good in enumerate(self.data[\"good\"]):\n",
    "            trg.append(tk(good, return_tensors='pt', return_attention_mask=False, return_token_type_ids=False)['input_ids'].to(self.device)[:, -1])\n",
    "        corr_tokens = tk(self.data[\"corr\"], return_tensors='pt', padding=True, return_attention_mask=False, return_token_type_ids=False)['input_ids'].to(self.device)\n",
    "        corr_trg = []\n",
    "        for i, bad in enumerate(self.data[\"bad\"]):\n",
    "            corr_trg.append(tk(bad, return_tensors='pt', return_attention_mask=False, return_token_type_ids=False)['input_ids'].to(self.device)[:, -1])\n",
    "\n",
    "        return {\n",
    "            \"clean\": clean_tokens,\n",
    "            \"trg_idx\": trg_idx,\n",
    "            \"trg\": trg,\n",
    "            \"corr\": corr_tokens,\n",
    "            \"corr_trg\": corr_trg,\n",
    "        }\n"
   ]
  },
  {
   "cell_type": "code",
   "execution_count": 105,
   "metadata": {},
   "outputs": [
    {
     "name": "stdout",
     "output_type": "stream",
     "text": [
      "Loaded pretrained model EleutherAI/pythia-70m-deduped into HookedTransformer\n",
      "{'y': ['mlp_5', 'attn_3', 'resid_2', 'attn_4', 'mlp_3', 'attn_5', 'mlp_4'], 'resid_2': [], 'attn_3': ['resid_2'], 'mlp_3': ['resid_2'], 'attn_4': ['mlp_3', 'resid_2', 'attn_3'], 'mlp_4': ['mlp_3', 'resid_2', 'attn_3'], 'attn_5': ['attn_3', 'resid_2', 'attn_4', 'mlp_3', 'mlp_4'], 'mlp_5': ['attn_3', 'resid_2', 'attn_4', 'mlp_3', 'mlp_4']}\n"
     ]
    }
   ],
   "source": [
    "use_attn_mlp = True\n",
    "use_resid = False\n",
    "start_at_layer = 2\n",
    "model, name2mod = load_model_and_modules(device=DEVICE, resid=use_resid, attn=use_attn_mlp, mlp=use_attn_mlp, start_at_layer=start_at_layer)\n",
    "architectural_graph = get_architectural_graph(model, name2mod)\n",
    "\n",
    "dictionaries = load_saes(model, name2mod, device=DEVICE)\n",
    "print(architectural_graph)"
   ]
  },
  {
   "cell_type": "code",
   "execution_count": 106,
   "metadata": {},
   "outputs": [],
   "source": [
    "edge_threshold = 1e-4\n",
    "buffer = single_input_buffer(model, 1, DEVICE, ctx_len=None, perm=None)\n",
    "steps = 10\n",
    "\n",
    "edge_circuit = False\n",
    "\n",
    "batch = next(buffer)\n",
    "tokens, trg_idx, trg, corr, corr_trg = unpack_batch(batch)\n",
    "\n",
    "clean = tokens\n",
    "patch = corr\n",
    "\n",
    "metric_fn = metric_fn_logit\n",
    "metric_fn_dict = {\n",
    "    'logit': metric_fn_logit,\n",
    "    'KL': metric_fn_KL,\n",
    "    'Statistical Distance': metric_fn_statistical_distance,\n",
    "    # 'acc': metric_fn_acc,\n",
    "    # 'MRR': metric_fn_MRR,\n",
    "}\n",
    "\n",
    "metric_kwargs = {\"trg_idx\": trg_idx, \"trg_pos\": trg, \"trg_neg\": corr_trg}\n",
    "\n",
    "default_ablation = 'id'\n",
    "\n",
    "if patch is not None:\n",
    "    ablation_fn = id_ablation\n",
    "if patch is None and ablation_fn is None:\n",
    "    if default_ablation == 'mean':\n",
    "        ablation_fn = mean_ablation\n",
    "    elif default_ablation == 'zero':\n",
    "        ablation_fn = zero_ablation\n",
    "    elif default_ablation == 'id':\n",
    "        ablation_fn = id_ablation\n",
    "    else:\n",
    "        raise ValueError(f\"Unknown default ablation function : {default_ablation}\")\n",
    "    "
   ]
  },
  {
   "cell_type": "code",
   "execution_count": 107,
   "metadata": {},
   "outputs": [],
   "source": [
    "edges = get_circuit_feature(\n",
    "    clean=clean,\n",
    "    patch=patch,\n",
    "    model=model,\n",
    "    architectural_graph=architectural_graph,\n",
    "    name2mod=name2mod,\n",
    "    dictionaries=dictionaries,\n",
    "    metric_fn=metric_fn,\n",
    "    metric_kwargs=metric_kwargs,\n",
    "    ablation_fn=ablation_fn,\n",
    "    threshold=edge_threshold,\n",
    "    steps=steps,\n",
    "    edge_circuit=edge_circuit,\n",
    ")"
   ]
  },
  {
   "cell_type": "code",
   "execution_count": 108,
   "metadata": {},
   "outputs": [],
   "source": [
    "nb_eval_thresholds = 20\n",
    "\n",
    "thresholds = torch.logspace(math.log10(edge_threshold), 0.1, nb_eval_thresholds, 10).tolist() + [999.] # the higher the threshold, the more edges are removed. -1 is to enforce full ablation.\n",
    "\n",
    "results = faithfulness_fn(\n",
    "    model,\n",
    "    name2mod,\n",
    "    dictionaries,\n",
    "    clean,\n",
    "    edges,\n",
    "    architectural_graph,\n",
    "    thresholds,\n",
    "    metric_fn_dict,\n",
    "    metric_kwargs,\n",
    "    patch,\n",
    "    ablation_fn,\n",
    "    default_ablation=default_ablation,\n",
    "    node_ablation=(not edge_circuit),\n",
    ")"
   ]
  },
  {
   "cell_type": "code",
   "execution_count": 109,
   "metadata": {},
   "outputs": [
    {
     "name": "stdout",
     "output_type": "stream",
     "text": [
      "logit [2.4891357421875, 2.48046875, 2.4659423828125, 2.4931640625, 2.450439453125, 2.4312744140625, 2.393310546875, 2.357177734375, 2.244873046875, 2.3397216796875, 2.3839111328125, 2.01513671875, 2.007080078125, 2.1650390625, 2.3438720703125, 2.2637939453125, 2.0863037109375, 2.194580078125, 2.1763916015625, 2.1763916015625, 2.1763916015625]\n",
      "KL [0.0003356989473104477, 0.00034572184085845947, 0.0007738028652966022, 0.0010038330219686031, 0.0014394547324627638, 0.0017834627069532871, 0.0029769744724035263, 0.005828524474054575, 0.010149048641324043, 0.017404276877641678, 0.019076023250818253, 0.029309868812561035, 0.03361905738711357, 0.030940942466259003, 0.03102860599756241, 0.04362988844513893, 0.04387107864022255, 0.04991466552019119, 0.04767295718193054, 0.04767295718193054, 0.04767295718193054]\n",
      "Statistical Distance [0.009500189684331417, 0.008843712508678436, 0.015384561382234097, 0.017870567739009857, 0.02204575017094612, 0.02265026792883873, 0.03066226653754711, 0.044757090508937836, 0.057959746569395065, 0.07431070506572723, 0.0739564448595047, 0.09457028657197952, 0.09989243000745773, 0.0954199731349945, 0.09574088454246521, 0.10900967568159103, 0.1114208847284317, 0.12026631832122803, 0.1168353334069252, 0.1168353334069252, 0.1168353334069252]\n",
      "faithfulness_logit [1.0239808559417725, 0.9956035017967224, 0.948041558265686, 1.0371702909469604, 0.8972821831703186, 0.8345323801040649, 0.7102318406105042, 0.5919264554977417, 0.2242206186056137, 0.5347721576690674, 0.6794564127922058, -0.5279776453971863, -0.5543565154075623, -0.03717026486992836, 0.5483613014221191, 0.2861710488796234, -0.2949640154838562, 0.059552356600761414, 0.0, 0.0, 0.0]\n",
      "faithfulness_KL [0.9929583072662354, 0.9927480220794678, 0.9837684631347656, 0.9789432883262634, 0.9698054790496826, 0.9625895023345947, 0.9375540614128113, 0.8777389526367188, 0.7871102094650269, 0.634922206401825, 0.5998551249504089, 0.3851866126060486, 0.2947956621646881, 0.3509726822376251, 0.34913381934165955, 0.0848052129149437, 0.07974592596292496, -0.04702632129192352, -3.5164307519153226e-06, -3.5164307519153226e-06, -3.5164307519153226e-06]\n",
      "faithfulness_Statistical Distance [0.9186869859695435, 0.9243058562278748, 0.8683220744132996, 0.8470441102981567, 0.8113083839416504, 0.8061341643333435, 0.7375587224960327, 0.6169198155403137, 0.5039170384407043, 0.3639676570892334, 0.3669998049736023, 0.19056397676467896, 0.14501126110553741, 0.18329143524169922, 0.18054471909999847, 0.06697589159011841, 0.046338122338056564, -0.029370779171586037, -4.65522634840454e-06, -4.65522634840454e-06, -4.65522634840454e-06]\n"
     ]
    },
    {
     "data": {
      "application/vnd.plotly.v1+json": {
       "config": {
        "plotlyServerURL": "https://plot.ly"
       },
       "data": [
        {
         "mode": "lines+markers",
         "name": "logit",
         "type": "scatter",
         "x": [
          0.00009999999747378752,
          0.0001643574796617031,
          0.00027013380895368755,
          0.0004439851036295295,
          0.0007297227275557816,
          0.0011993538355454803,
          0.001971227815374732,
          0.0032398602925240993,
          0.005324952770024538,
          0.008751957677304745,
          0.014384500682353973,
          0.023642001673579216,
          0.03885739669203758,
          0.0638650432229042,
          0.10496696829795837,
          0.17252106964588165,
          0.28355127573013306,
          0.46603772044181824,
          0.765967845916748,
          1.258925437927246,
          999
         ],
         "xaxis": "x",
         "y": [
          2.4891357421875,
          2.48046875,
          2.4659423828125,
          2.4931640625,
          2.450439453125,
          2.4312744140625,
          2.393310546875,
          2.357177734375,
          2.244873046875,
          2.3397216796875,
          2.3839111328125,
          2.01513671875,
          2.007080078125,
          2.1650390625,
          2.3438720703125,
          2.2637939453125,
          2.0863037109375,
          2.194580078125,
          2.1763916015625,
          2.1763916015625,
          2.1763916015625
         ],
         "yaxis": "y"
        },
        {
         "mode": "lines+markers",
         "name": "KL",
         "type": "scatter",
         "x": [
          0.00009999999747378752,
          0.0001643574796617031,
          0.00027013380895368755,
          0.0004439851036295295,
          0.0007297227275557816,
          0.0011993538355454803,
          0.001971227815374732,
          0.0032398602925240993,
          0.005324952770024538,
          0.008751957677304745,
          0.014384500682353973,
          0.023642001673579216,
          0.03885739669203758,
          0.0638650432229042,
          0.10496696829795837,
          0.17252106964588165,
          0.28355127573013306,
          0.46603772044181824,
          0.765967845916748,
          1.258925437927246,
          999
         ],
         "xaxis": "x2",
         "y": [
          0.0003356989473104477,
          0.00034572184085845947,
          0.0007738028652966022,
          0.0010038330219686031,
          0.0014394547324627638,
          0.0017834627069532871,
          0.0029769744724035263,
          0.005828524474054575,
          0.010149048641324043,
          0.017404276877641678,
          0.019076023250818253,
          0.029309868812561035,
          0.03361905738711357,
          0.030940942466259003,
          0.03102860599756241,
          0.04362988844513893,
          0.04387107864022255,
          0.04991466552019119,
          0.04767295718193054,
          0.04767295718193054,
          0.04767295718193054
         ],
         "yaxis": "y2"
        },
        {
         "mode": "lines+markers",
         "name": "Statistical Distance",
         "type": "scatter",
         "x": [
          0.00009999999747378752,
          0.0001643574796617031,
          0.00027013380895368755,
          0.0004439851036295295,
          0.0007297227275557816,
          0.0011993538355454803,
          0.001971227815374732,
          0.0032398602925240993,
          0.005324952770024538,
          0.008751957677304745,
          0.014384500682353973,
          0.023642001673579216,
          0.03885739669203758,
          0.0638650432229042,
          0.10496696829795837,
          0.17252106964588165,
          0.28355127573013306,
          0.46603772044181824,
          0.765967845916748,
          1.258925437927246,
          999
         ],
         "xaxis": "x3",
         "y": [
          0.009500189684331417,
          0.008843712508678436,
          0.015384561382234097,
          0.017870567739009857,
          0.02204575017094612,
          0.02265026792883873,
          0.03066226653754711,
          0.044757090508937836,
          0.057959746569395065,
          0.07431070506572723,
          0.0739564448595047,
          0.09457028657197952,
          0.09989243000745773,
          0.0954199731349945,
          0.09574088454246521,
          0.10900967568159103,
          0.1114208847284317,
          0.12026631832122803,
          0.1168353334069252,
          0.1168353334069252,
          0.1168353334069252
         ],
         "yaxis": "y3"
        },
        {
         "mode": "lines+markers",
         "name": "faithfulness_logit",
         "type": "scatter",
         "x": [
          0.00009999999747378752,
          0.0001643574796617031,
          0.00027013380895368755,
          0.0004439851036295295,
          0.0007297227275557816,
          0.0011993538355454803,
          0.001971227815374732,
          0.0032398602925240993,
          0.005324952770024538,
          0.008751957677304745,
          0.014384500682353973,
          0.023642001673579216,
          0.03885739669203758,
          0.0638650432229042,
          0.10496696829795837,
          0.17252106964588165,
          0.28355127573013306,
          0.46603772044181824,
          0.765967845916748,
          1.258925437927246,
          999
         ],
         "xaxis": "x4",
         "y": [
          1.0239808559417725,
          0.9956035017967224,
          0.948041558265686,
          1.0371702909469604,
          0.8972821831703186,
          0.8345323801040649,
          0.7102318406105042,
          0.5919264554977417,
          0.2242206186056137,
          0.5347721576690674,
          0.6794564127922058,
          -0.5279776453971863,
          -0.5543565154075623,
          -0.03717026486992836,
          0.5483613014221191,
          0.2861710488796234,
          -0.2949640154838562,
          0.059552356600761414,
          0,
          0,
          0
         ],
         "yaxis": "y4"
        },
        {
         "mode": "lines+markers",
         "name": "faithfulness_KL",
         "type": "scatter",
         "x": [
          0.00009999999747378752,
          0.0001643574796617031,
          0.00027013380895368755,
          0.0004439851036295295,
          0.0007297227275557816,
          0.0011993538355454803,
          0.001971227815374732,
          0.0032398602925240993,
          0.005324952770024538,
          0.008751957677304745,
          0.014384500682353973,
          0.023642001673579216,
          0.03885739669203758,
          0.0638650432229042,
          0.10496696829795837,
          0.17252106964588165,
          0.28355127573013306,
          0.46603772044181824,
          0.765967845916748,
          1.258925437927246,
          999
         ],
         "xaxis": "x5",
         "y": [
          0.9929583072662354,
          0.9927480220794678,
          0.9837684631347656,
          0.9789432883262634,
          0.9698054790496826,
          0.9625895023345947,
          0.9375540614128113,
          0.8777389526367188,
          0.7871102094650269,
          0.634922206401825,
          0.5998551249504089,
          0.3851866126060486,
          0.2947956621646881,
          0.3509726822376251,
          0.34913381934165955,
          0.0848052129149437,
          0.07974592596292496,
          -0.04702632129192352,
          -0.0000035164307519153226,
          -0.0000035164307519153226,
          -0.0000035164307519153226
         ],
         "yaxis": "y5"
        },
        {
         "mode": "lines+markers",
         "name": "faithfulness_Statistical Distance",
         "type": "scatter",
         "x": [
          0.00009999999747378752,
          0.0001643574796617031,
          0.00027013380895368755,
          0.0004439851036295295,
          0.0007297227275557816,
          0.0011993538355454803,
          0.001971227815374732,
          0.0032398602925240993,
          0.005324952770024538,
          0.008751957677304745,
          0.014384500682353973,
          0.023642001673579216,
          0.03885739669203758,
          0.0638650432229042,
          0.10496696829795837,
          0.17252106964588165,
          0.28355127573013306,
          0.46603772044181824,
          0.765967845916748,
          1.258925437927246,
          999
         ],
         "xaxis": "x6",
         "y": [
          0.9186869859695435,
          0.9243058562278748,
          0.8683220744132996,
          0.8470441102981567,
          0.8113083839416504,
          0.8061341643333435,
          0.7375587224960327,
          0.6169198155403137,
          0.5039170384407043,
          0.3639676570892334,
          0.3669998049736023,
          0.19056397676467896,
          0.14501126110553741,
          0.18329143524169922,
          0.18054471909999847,
          0.06697589159011841,
          0.046338122338056564,
          -0.029370779171586037,
          -0.00000465522634840454,
          -0.00000465522634840454,
          -0.00000465522634840454
         ],
         "yaxis": "y6"
        },
        {
         "mode": "lines+markers",
         "name": "n_nodes",
         "type": "scatter",
         "x": [
          0.00009999999747378752,
          0.0001643574796617031,
          0.00027013380895368755,
          0.0004439851036295295,
          0.0007297227275557816,
          0.0011993538355454803,
          0.001971227815374732,
          0.0032398602925240993,
          0.005324952770024538,
          0.008751957677304745,
          0.014384500682353973,
          0.023642001673579216,
          0.03885739669203758,
          0.0638650432229042,
          0.10496696829795837,
          0.17252106964588165,
          0.28355127573013306,
          0.46603772044181824,
          0.765967845916748,
          1.258925437927246,
          999
         ],
         "xaxis": "x7",
         "y": [
          2917,
          2692,
          2466,
          2203,
          1914,
          1601,
          1266,
          929,
          646,
          415,
          236,
          128,
          61,
          25,
          10,
          7,
          5,
          2,
          0,
          0,
          0
         ],
         "yaxis": "y7"
        },
        {
         "mode": "lines+markers",
         "name": "n_edges",
         "type": "scatter",
         "x": [
          0.00009999999747378752,
          0.0001643574796617031,
          0.00027013380895368755,
          0.0004439851036295295,
          0.0007297227275557816,
          0.0011993538355454803,
          0.001971227815374732,
          0.0032398602925240993,
          0.005324952770024538,
          0.008751957677304745,
          0.014384500682353973,
          0.023642001673579216,
          0.03885739669203758,
          0.0638650432229042,
          0.10496696829795837,
          0.17252106964588165,
          0.28355127573013306,
          0.46603772044181824,
          0.765967845916748,
          1.258925437927246,
          999
         ],
         "xaxis": "x8",
         "y": [
          2986511,
          2553615,
          2151415,
          1726932,
          1314918,
          921274,
          578491,
          308395,
          147294,
          58974,
          18733,
          5017,
          1054,
          206,
          47,
          25,
          13,
          2,
          0,
          0,
          0
         ],
         "yaxis": "y8"
        },
        {
         "mode": "lines+markers",
         "name": "avg_deg",
         "type": "scatter",
         "x": [
          0.00009999999747378752,
          0.0001643574796617031,
          0.00027013380895368755,
          0.0004439851036295295,
          0.0007297227275557816,
          0.0011993538355454803,
          0.001971227815374732,
          0.0032398602925240993,
          0.005324952770024538,
          0.008751957677304745,
          0.014384500682353973,
          0.023642001673579216,
          0.03885739669203758,
          0.0638650432229042,
          0.10496696829795837,
          0.17252106964588165,
          0.28355127573013306,
          0.46603772044181824,
          0.765967845916748,
          1.258925437927246,
          999
         ],
         "xaxis": "x9",
         "y": [
          2047.6592389441207,
          1897.1879643387815,
          1744.8621248986212,
          1567.8002723558784,
          1374,
          1150.8732042473455,
          913.8878357030015,
          663.9289558665231,
          456.01857585139317,
          284.2120481927711,
          158.75423728813558,
          78.390625,
          34.557377049180324,
          16.48,
          9.4,
          7.142857142857143,
          5.2,
          2,
          0,
          0,
          0
         ],
         "yaxis": "y9"
        },
        {
         "mode": "lines+markers",
         "name": "density",
         "type": "scatter",
         "x": [
          0.00009999999747378752,
          0.0001643574796617031,
          0.00027013380895368755,
          0.0004439851036295295,
          0.0007297227275557816,
          0.0011993538355454803,
          0.001971227815374732,
          0.0032398602925240993,
          0.005324952770024538,
          0.008751957677304745,
          0.014384500682353973,
          0.023642001673579216,
          0.03885739669203758,
          0.0638650432229042,
          0.10496696829795837,
          0.17252106964588165,
          0.28355127573013306,
          0.46603772044181824,
          0.765967845916748,
          1.258925437927246,
          999
         ],
         "xaxis": "x10",
         "y": [
          0.0001545112463645637,
          0.00013211477198638022,
          0.00011130640632472932,
          0.00008934519428294152,
          0.00006802909047110006,
          0.00004766337588080205,
          0.000029929025913588703,
          0.000015955238268361427,
          0.000007620457381563028,
          0.000003051100748052704,
          9.691774494058336e-7,
          2.595613750600023e-7,
          5.4530136850416966e-8,
          1.0657692506299554e-8,
          2.431609580355598e-9,
          1.293409268576795e-9,
          6.725728307621637e-10,
          1.0347274426170117e-10,
          0,
          0,
          0
         ],
         "yaxis": "y10"
        }
       ],
       "layout": {
        "height": 4600,
        "showlegend": true,
        "template": {
         "data": {
          "bar": [
           {
            "error_x": {
             "color": "#2a3f5f"
            },
            "error_y": {
             "color": "#2a3f5f"
            },
            "marker": {
             "line": {
              "color": "#E5ECF6",
              "width": 0.5
             },
             "pattern": {
              "fillmode": "overlay",
              "size": 10,
              "solidity": 0.2
             }
            },
            "type": "bar"
           }
          ],
          "barpolar": [
           {
            "marker": {
             "line": {
              "color": "#E5ECF6",
              "width": 0.5
             },
             "pattern": {
              "fillmode": "overlay",
              "size": 10,
              "solidity": 0.2
             }
            },
            "type": "barpolar"
           }
          ],
          "carpet": [
           {
            "aaxis": {
             "endlinecolor": "#2a3f5f",
             "gridcolor": "white",
             "linecolor": "white",
             "minorgridcolor": "white",
             "startlinecolor": "#2a3f5f"
            },
            "baxis": {
             "endlinecolor": "#2a3f5f",
             "gridcolor": "white",
             "linecolor": "white",
             "minorgridcolor": "white",
             "startlinecolor": "#2a3f5f"
            },
            "type": "carpet"
           }
          ],
          "choropleth": [
           {
            "colorbar": {
             "outlinewidth": 0,
             "ticks": ""
            },
            "type": "choropleth"
           }
          ],
          "contour": [
           {
            "colorbar": {
             "outlinewidth": 0,
             "ticks": ""
            },
            "colorscale": [
             [
              0,
              "#0d0887"
             ],
             [
              0.1111111111111111,
              "#46039f"
             ],
             [
              0.2222222222222222,
              "#7201a8"
             ],
             [
              0.3333333333333333,
              "#9c179e"
             ],
             [
              0.4444444444444444,
              "#bd3786"
             ],
             [
              0.5555555555555556,
              "#d8576b"
             ],
             [
              0.6666666666666666,
              "#ed7953"
             ],
             [
              0.7777777777777778,
              "#fb9f3a"
             ],
             [
              0.8888888888888888,
              "#fdca26"
             ],
             [
              1,
              "#f0f921"
             ]
            ],
            "type": "contour"
           }
          ],
          "contourcarpet": [
           {
            "colorbar": {
             "outlinewidth": 0,
             "ticks": ""
            },
            "type": "contourcarpet"
           }
          ],
          "heatmap": [
           {
            "colorbar": {
             "outlinewidth": 0,
             "ticks": ""
            },
            "colorscale": [
             [
              0,
              "#0d0887"
             ],
             [
              0.1111111111111111,
              "#46039f"
             ],
             [
              0.2222222222222222,
              "#7201a8"
             ],
             [
              0.3333333333333333,
              "#9c179e"
             ],
             [
              0.4444444444444444,
              "#bd3786"
             ],
             [
              0.5555555555555556,
              "#d8576b"
             ],
             [
              0.6666666666666666,
              "#ed7953"
             ],
             [
              0.7777777777777778,
              "#fb9f3a"
             ],
             [
              0.8888888888888888,
              "#fdca26"
             ],
             [
              1,
              "#f0f921"
             ]
            ],
            "type": "heatmap"
           }
          ],
          "heatmapgl": [
           {
            "colorbar": {
             "outlinewidth": 0,
             "ticks": ""
            },
            "colorscale": [
             [
              0,
              "#0d0887"
             ],
             [
              0.1111111111111111,
              "#46039f"
             ],
             [
              0.2222222222222222,
              "#7201a8"
             ],
             [
              0.3333333333333333,
              "#9c179e"
             ],
             [
              0.4444444444444444,
              "#bd3786"
             ],
             [
              0.5555555555555556,
              "#d8576b"
             ],
             [
              0.6666666666666666,
              "#ed7953"
             ],
             [
              0.7777777777777778,
              "#fb9f3a"
             ],
             [
              0.8888888888888888,
              "#fdca26"
             ],
             [
              1,
              "#f0f921"
             ]
            ],
            "type": "heatmapgl"
           }
          ],
          "histogram": [
           {
            "marker": {
             "pattern": {
              "fillmode": "overlay",
              "size": 10,
              "solidity": 0.2
             }
            },
            "type": "histogram"
           }
          ],
          "histogram2d": [
           {
            "colorbar": {
             "outlinewidth": 0,
             "ticks": ""
            },
            "colorscale": [
             [
              0,
              "#0d0887"
             ],
             [
              0.1111111111111111,
              "#46039f"
             ],
             [
              0.2222222222222222,
              "#7201a8"
             ],
             [
              0.3333333333333333,
              "#9c179e"
             ],
             [
              0.4444444444444444,
              "#bd3786"
             ],
             [
              0.5555555555555556,
              "#d8576b"
             ],
             [
              0.6666666666666666,
              "#ed7953"
             ],
             [
              0.7777777777777778,
              "#fb9f3a"
             ],
             [
              0.8888888888888888,
              "#fdca26"
             ],
             [
              1,
              "#f0f921"
             ]
            ],
            "type": "histogram2d"
           }
          ],
          "histogram2dcontour": [
           {
            "colorbar": {
             "outlinewidth": 0,
             "ticks": ""
            },
            "colorscale": [
             [
              0,
              "#0d0887"
             ],
             [
              0.1111111111111111,
              "#46039f"
             ],
             [
              0.2222222222222222,
              "#7201a8"
             ],
             [
              0.3333333333333333,
              "#9c179e"
             ],
             [
              0.4444444444444444,
              "#bd3786"
             ],
             [
              0.5555555555555556,
              "#d8576b"
             ],
             [
              0.6666666666666666,
              "#ed7953"
             ],
             [
              0.7777777777777778,
              "#fb9f3a"
             ],
             [
              0.8888888888888888,
              "#fdca26"
             ],
             [
              1,
              "#f0f921"
             ]
            ],
            "type": "histogram2dcontour"
           }
          ],
          "mesh3d": [
           {
            "colorbar": {
             "outlinewidth": 0,
             "ticks": ""
            },
            "type": "mesh3d"
           }
          ],
          "parcoords": [
           {
            "line": {
             "colorbar": {
              "outlinewidth": 0,
              "ticks": ""
             }
            },
            "type": "parcoords"
           }
          ],
          "pie": [
           {
            "automargin": true,
            "type": "pie"
           }
          ],
          "scatter": [
           {
            "fillpattern": {
             "fillmode": "overlay",
             "size": 10,
             "solidity": 0.2
            },
            "type": "scatter"
           }
          ],
          "scatter3d": [
           {
            "line": {
             "colorbar": {
              "outlinewidth": 0,
              "ticks": ""
             }
            },
            "marker": {
             "colorbar": {
              "outlinewidth": 0,
              "ticks": ""
             }
            },
            "type": "scatter3d"
           }
          ],
          "scattercarpet": [
           {
            "marker": {
             "colorbar": {
              "outlinewidth": 0,
              "ticks": ""
             }
            },
            "type": "scattercarpet"
           }
          ],
          "scattergeo": [
           {
            "marker": {
             "colorbar": {
              "outlinewidth": 0,
              "ticks": ""
             }
            },
            "type": "scattergeo"
           }
          ],
          "scattergl": [
           {
            "marker": {
             "colorbar": {
              "outlinewidth": 0,
              "ticks": ""
             }
            },
            "type": "scattergl"
           }
          ],
          "scattermapbox": [
           {
            "marker": {
             "colorbar": {
              "outlinewidth": 0,
              "ticks": ""
             }
            },
            "type": "scattermapbox"
           }
          ],
          "scatterpolar": [
           {
            "marker": {
             "colorbar": {
              "outlinewidth": 0,
              "ticks": ""
             }
            },
            "type": "scatterpolar"
           }
          ],
          "scatterpolargl": [
           {
            "marker": {
             "colorbar": {
              "outlinewidth": 0,
              "ticks": ""
             }
            },
            "type": "scatterpolargl"
           }
          ],
          "scatterternary": [
           {
            "marker": {
             "colorbar": {
              "outlinewidth": 0,
              "ticks": ""
             }
            },
            "type": "scatterternary"
           }
          ],
          "surface": [
           {
            "colorbar": {
             "outlinewidth": 0,
             "ticks": ""
            },
            "colorscale": [
             [
              0,
              "#0d0887"
             ],
             [
              0.1111111111111111,
              "#46039f"
             ],
             [
              0.2222222222222222,
              "#7201a8"
             ],
             [
              0.3333333333333333,
              "#9c179e"
             ],
             [
              0.4444444444444444,
              "#bd3786"
             ],
             [
              0.5555555555555556,
              "#d8576b"
             ],
             [
              0.6666666666666666,
              "#ed7953"
             ],
             [
              0.7777777777777778,
              "#fb9f3a"
             ],
             [
              0.8888888888888888,
              "#fdca26"
             ],
             [
              1,
              "#f0f921"
             ]
            ],
            "type": "surface"
           }
          ],
          "table": [
           {
            "cells": {
             "fill": {
              "color": "#EBF0F8"
             },
             "line": {
              "color": "white"
             }
            },
            "header": {
             "fill": {
              "color": "#C8D4E3"
             },
             "line": {
              "color": "white"
             }
            },
            "type": "table"
           }
          ]
         },
         "layout": {
          "annotationdefaults": {
           "arrowcolor": "#2a3f5f",
           "arrowhead": 0,
           "arrowwidth": 1
          },
          "autotypenumbers": "strict",
          "coloraxis": {
           "colorbar": {
            "outlinewidth": 0,
            "ticks": ""
           }
          },
          "colorscale": {
           "diverging": [
            [
             0,
             "#8e0152"
            ],
            [
             0.1,
             "#c51b7d"
            ],
            [
             0.2,
             "#de77ae"
            ],
            [
             0.3,
             "#f1b6da"
            ],
            [
             0.4,
             "#fde0ef"
            ],
            [
             0.5,
             "#f7f7f7"
            ],
            [
             0.6,
             "#e6f5d0"
            ],
            [
             0.7,
             "#b8e186"
            ],
            [
             0.8,
             "#7fbc41"
            ],
            [
             0.9,
             "#4d9221"
            ],
            [
             1,
             "#276419"
            ]
           ],
           "sequential": [
            [
             0,
             "#0d0887"
            ],
            [
             0.1111111111111111,
             "#46039f"
            ],
            [
             0.2222222222222222,
             "#7201a8"
            ],
            [
             0.3333333333333333,
             "#9c179e"
            ],
            [
             0.4444444444444444,
             "#bd3786"
            ],
            [
             0.5555555555555556,
             "#d8576b"
            ],
            [
             0.6666666666666666,
             "#ed7953"
            ],
            [
             0.7777777777777778,
             "#fb9f3a"
            ],
            [
             0.8888888888888888,
             "#fdca26"
            ],
            [
             1,
             "#f0f921"
            ]
           ],
           "sequentialminus": [
            [
             0,
             "#0d0887"
            ],
            [
             0.1111111111111111,
             "#46039f"
            ],
            [
             0.2222222222222222,
             "#7201a8"
            ],
            [
             0.3333333333333333,
             "#9c179e"
            ],
            [
             0.4444444444444444,
             "#bd3786"
            ],
            [
             0.5555555555555556,
             "#d8576b"
            ],
            [
             0.6666666666666666,
             "#ed7953"
            ],
            [
             0.7777777777777778,
             "#fb9f3a"
            ],
            [
             0.8888888888888888,
             "#fdca26"
            ],
            [
             1,
             "#f0f921"
            ]
           ]
          },
          "colorway": [
           "#636efa",
           "#EF553B",
           "#00cc96",
           "#ab63fa",
           "#FFA15A",
           "#19d3f3",
           "#FF6692",
           "#B6E880",
           "#FF97FF",
           "#FECB52"
          ],
          "font": {
           "color": "#2a3f5f"
          },
          "geo": {
           "bgcolor": "white",
           "lakecolor": "white",
           "landcolor": "#E5ECF6",
           "showlakes": true,
           "showland": true,
           "subunitcolor": "white"
          },
          "hoverlabel": {
           "align": "left"
          },
          "hovermode": "closest",
          "mapbox": {
           "style": "light"
          },
          "paper_bgcolor": "white",
          "plot_bgcolor": "#E5ECF6",
          "polar": {
           "angularaxis": {
            "gridcolor": "white",
            "linecolor": "white",
            "ticks": ""
           },
           "bgcolor": "#E5ECF6",
           "radialaxis": {
            "gridcolor": "white",
            "linecolor": "white",
            "ticks": ""
           }
          },
          "scene": {
           "xaxis": {
            "backgroundcolor": "#E5ECF6",
            "gridcolor": "white",
            "gridwidth": 2,
            "linecolor": "white",
            "showbackground": true,
            "ticks": "",
            "zerolinecolor": "white"
           },
           "yaxis": {
            "backgroundcolor": "#E5ECF6",
            "gridcolor": "white",
            "gridwidth": 2,
            "linecolor": "white",
            "showbackground": true,
            "ticks": "",
            "zerolinecolor": "white"
           },
           "zaxis": {
            "backgroundcolor": "#E5ECF6",
            "gridcolor": "white",
            "gridwidth": 2,
            "linecolor": "white",
            "showbackground": true,
            "ticks": "",
            "zerolinecolor": "white"
           }
          },
          "shapedefaults": {
           "line": {
            "color": "#2a3f5f"
           }
          },
          "ternary": {
           "aaxis": {
            "gridcolor": "white",
            "linecolor": "white",
            "ticks": ""
           },
           "baxis": {
            "gridcolor": "white",
            "linecolor": "white",
            "ticks": ""
           },
           "bgcolor": "#E5ECF6",
           "caxis": {
            "gridcolor": "white",
            "linecolor": "white",
            "ticks": ""
           }
          },
          "title": {
           "x": 0.05
          },
          "xaxis": {
           "automargin": true,
           "gridcolor": "white",
           "linecolor": "white",
           "ticks": "",
           "title": {
            "standoff": 15
           },
           "zerolinecolor": "white",
           "zerolinewidth": 2
          },
          "yaxis": {
           "automargin": true,
           "gridcolor": "white",
           "linecolor": "white",
           "ticks": "",
           "title": {
            "standoff": 15
           },
           "zerolinecolor": "white",
           "zerolinewidth": 2
          }
         }
        },
        "title": {
         "text": "Faithfulness and graph properties w.r.t. threshold"
        },
        "width": 800,
        "xaxis": {
         "anchor": "y",
         "domain": [
          0,
          1
         ],
         "type": "log"
        },
        "xaxis10": {
         "anchor": "y10",
         "domain": [
          0,
          1
         ],
         "type": "log"
        },
        "xaxis2": {
         "anchor": "y2",
         "domain": [
          0,
          1
         ],
         "type": "log"
        },
        "xaxis3": {
         "anchor": "y3",
         "domain": [
          0,
          1
         ],
         "type": "log"
        },
        "xaxis4": {
         "anchor": "y4",
         "domain": [
          0,
          1
         ],
         "type": "log"
        },
        "xaxis5": {
         "anchor": "y5",
         "domain": [
          0,
          1
         ],
         "type": "log"
        },
        "xaxis6": {
         "anchor": "y6",
         "domain": [
          0,
          1
         ],
         "type": "log"
        },
        "xaxis7": {
         "anchor": "y7",
         "domain": [
          0,
          1
         ],
         "type": "log"
        },
        "xaxis8": {
         "anchor": "y8",
         "domain": [
          0,
          1
         ],
         "type": "log"
        },
        "xaxis9": {
         "anchor": "y9",
         "domain": [
          0,
          1
         ],
         "type": "log"
        },
        "yaxis": {
         "anchor": "x",
         "domain": [
          0.9269999999999999,
          0.9999999999999999
         ]
        },
        "yaxis10": {
         "anchor": "x10",
         "domain": [
          0,
          0.073
         ]
        },
        "yaxis2": {
         "anchor": "x2",
         "domain": [
          0.824,
          0.8969999999999999
         ]
        },
        "yaxis3": {
         "anchor": "x3",
         "domain": [
          0.721,
          0.7939999999999999
         ]
        },
        "yaxis4": {
         "anchor": "x4",
         "domain": [
          0.618,
          0.691
         ]
        },
        "yaxis5": {
         "anchor": "x5",
         "domain": [
          0.515,
          0.588
         ]
        },
        "yaxis6": {
         "anchor": "x6",
         "domain": [
          0.412,
          0.485
         ]
        },
        "yaxis7": {
         "anchor": "x7",
         "domain": [
          0.30899999999999994,
          0.38199999999999995
         ]
        },
        "yaxis8": {
         "anchor": "x8",
         "domain": [
          0.206,
          0.27899999999999997
         ]
        },
        "yaxis9": {
         "anchor": "x9",
         "domain": [
          0.103,
          0.176
         ]
        }
       }
      },
      "text/html": [
       "<div>                            <div id=\"665743df-f31c-48b5-8bd7-d8f410a7a637\" class=\"plotly-graph-div\" style=\"height:4600px; width:800px;\"></div>            <script type=\"text/javascript\">                require([\"plotly\"], function(Plotly) {                    window.PLOTLYENV=window.PLOTLYENV || {};                                    if (document.getElementById(\"665743df-f31c-48b5-8bd7-d8f410a7a637\")) {                    Plotly.newPlot(                        \"665743df-f31c-48b5-8bd7-d8f410a7a637\",                        [{\"mode\":\"lines+markers\",\"name\":\"logit\",\"x\":[9.999999747378752e-05,0.0001643574796617031,0.00027013380895368755,0.0004439851036295295,0.0007297227275557816,0.0011993538355454803,0.001971227815374732,0.0032398602925240993,0.005324952770024538,0.008751957677304745,0.014384500682353973,0.023642001673579216,0.03885739669203758,0.0638650432229042,0.10496696829795837,0.17252106964588165,0.28355127573013306,0.46603772044181824,0.765967845916748,1.258925437927246,999.0],\"y\":[2.4891357421875,2.48046875,2.4659423828125,2.4931640625,2.450439453125,2.4312744140625,2.393310546875,2.357177734375,2.244873046875,2.3397216796875,2.3839111328125,2.01513671875,2.007080078125,2.1650390625,2.3438720703125,2.2637939453125,2.0863037109375,2.194580078125,2.1763916015625,2.1763916015625,2.1763916015625],\"type\":\"scatter\",\"xaxis\":\"x\",\"yaxis\":\"y\"},{\"mode\":\"lines+markers\",\"name\":\"KL\",\"x\":[9.999999747378752e-05,0.0001643574796617031,0.00027013380895368755,0.0004439851036295295,0.0007297227275557816,0.0011993538355454803,0.001971227815374732,0.0032398602925240993,0.005324952770024538,0.008751957677304745,0.014384500682353973,0.023642001673579216,0.03885739669203758,0.0638650432229042,0.10496696829795837,0.17252106964588165,0.28355127573013306,0.46603772044181824,0.765967845916748,1.258925437927246,999.0],\"y\":[0.0003356989473104477,0.00034572184085845947,0.0007738028652966022,0.0010038330219686031,0.0014394547324627638,0.0017834627069532871,0.0029769744724035263,0.005828524474054575,0.010149048641324043,0.017404276877641678,0.019076023250818253,0.029309868812561035,0.03361905738711357,0.030940942466259003,0.03102860599756241,0.04362988844513893,0.04387107864022255,0.04991466552019119,0.04767295718193054,0.04767295718193054,0.04767295718193054],\"type\":\"scatter\",\"xaxis\":\"x2\",\"yaxis\":\"y2\"},{\"mode\":\"lines+markers\",\"name\":\"Statistical Distance\",\"x\":[9.999999747378752e-05,0.0001643574796617031,0.00027013380895368755,0.0004439851036295295,0.0007297227275557816,0.0011993538355454803,0.001971227815374732,0.0032398602925240993,0.005324952770024538,0.008751957677304745,0.014384500682353973,0.023642001673579216,0.03885739669203758,0.0638650432229042,0.10496696829795837,0.17252106964588165,0.28355127573013306,0.46603772044181824,0.765967845916748,1.258925437927246,999.0],\"y\":[0.009500189684331417,0.008843712508678436,0.015384561382234097,0.017870567739009857,0.02204575017094612,0.02265026792883873,0.03066226653754711,0.044757090508937836,0.057959746569395065,0.07431070506572723,0.0739564448595047,0.09457028657197952,0.09989243000745773,0.0954199731349945,0.09574088454246521,0.10900967568159103,0.1114208847284317,0.12026631832122803,0.1168353334069252,0.1168353334069252,0.1168353334069252],\"type\":\"scatter\",\"xaxis\":\"x3\",\"yaxis\":\"y3\"},{\"mode\":\"lines+markers\",\"name\":\"faithfulness_logit\",\"x\":[9.999999747378752e-05,0.0001643574796617031,0.00027013380895368755,0.0004439851036295295,0.0007297227275557816,0.0011993538355454803,0.001971227815374732,0.0032398602925240993,0.005324952770024538,0.008751957677304745,0.014384500682353973,0.023642001673579216,0.03885739669203758,0.0638650432229042,0.10496696829795837,0.17252106964588165,0.28355127573013306,0.46603772044181824,0.765967845916748,1.258925437927246,999.0],\"y\":[1.0239808559417725,0.9956035017967224,0.948041558265686,1.0371702909469604,0.8972821831703186,0.8345323801040649,0.7102318406105042,0.5919264554977417,0.2242206186056137,0.5347721576690674,0.6794564127922058,-0.5279776453971863,-0.5543565154075623,-0.03717026486992836,0.5483613014221191,0.2861710488796234,-0.2949640154838562,0.059552356600761414,0.0,0.0,0.0],\"type\":\"scatter\",\"xaxis\":\"x4\",\"yaxis\":\"y4\"},{\"mode\":\"lines+markers\",\"name\":\"faithfulness_KL\",\"x\":[9.999999747378752e-05,0.0001643574796617031,0.00027013380895368755,0.0004439851036295295,0.0007297227275557816,0.0011993538355454803,0.001971227815374732,0.0032398602925240993,0.005324952770024538,0.008751957677304745,0.014384500682353973,0.023642001673579216,0.03885739669203758,0.0638650432229042,0.10496696829795837,0.17252106964588165,0.28355127573013306,0.46603772044181824,0.765967845916748,1.258925437927246,999.0],\"y\":[0.9929583072662354,0.9927480220794678,0.9837684631347656,0.9789432883262634,0.9698054790496826,0.9625895023345947,0.9375540614128113,0.8777389526367188,0.7871102094650269,0.634922206401825,0.5998551249504089,0.3851866126060486,0.2947956621646881,0.3509726822376251,0.34913381934165955,0.0848052129149437,0.07974592596292496,-0.04702632129192352,-3.5164307519153226e-06,-3.5164307519153226e-06,-3.5164307519153226e-06],\"type\":\"scatter\",\"xaxis\":\"x5\",\"yaxis\":\"y5\"},{\"mode\":\"lines+markers\",\"name\":\"faithfulness_Statistical Distance\",\"x\":[9.999999747378752e-05,0.0001643574796617031,0.00027013380895368755,0.0004439851036295295,0.0007297227275557816,0.0011993538355454803,0.001971227815374732,0.0032398602925240993,0.005324952770024538,0.008751957677304745,0.014384500682353973,0.023642001673579216,0.03885739669203758,0.0638650432229042,0.10496696829795837,0.17252106964588165,0.28355127573013306,0.46603772044181824,0.765967845916748,1.258925437927246,999.0],\"y\":[0.9186869859695435,0.9243058562278748,0.8683220744132996,0.8470441102981567,0.8113083839416504,0.8061341643333435,0.7375587224960327,0.6169198155403137,0.5039170384407043,0.3639676570892334,0.3669998049736023,0.19056397676467896,0.14501126110553741,0.18329143524169922,0.18054471909999847,0.06697589159011841,0.046338122338056564,-0.029370779171586037,-4.65522634840454e-06,-4.65522634840454e-06,-4.65522634840454e-06],\"type\":\"scatter\",\"xaxis\":\"x6\",\"yaxis\":\"y6\"},{\"mode\":\"lines+markers\",\"name\":\"n_nodes\",\"x\":[9.999999747378752e-05,0.0001643574796617031,0.00027013380895368755,0.0004439851036295295,0.0007297227275557816,0.0011993538355454803,0.001971227815374732,0.0032398602925240993,0.005324952770024538,0.008751957677304745,0.014384500682353973,0.023642001673579216,0.03885739669203758,0.0638650432229042,0.10496696829795837,0.17252106964588165,0.28355127573013306,0.46603772044181824,0.765967845916748,1.258925437927246,999.0],\"y\":[2917,2692,2466,2203,1914,1601,1266,929,646,415,236,128,61,25,10,7,5,2,0,0,0],\"type\":\"scatter\",\"xaxis\":\"x7\",\"yaxis\":\"y7\"},{\"mode\":\"lines+markers\",\"name\":\"n_edges\",\"x\":[9.999999747378752e-05,0.0001643574796617031,0.00027013380895368755,0.0004439851036295295,0.0007297227275557816,0.0011993538355454803,0.001971227815374732,0.0032398602925240993,0.005324952770024538,0.008751957677304745,0.014384500682353973,0.023642001673579216,0.03885739669203758,0.0638650432229042,0.10496696829795837,0.17252106964588165,0.28355127573013306,0.46603772044181824,0.765967845916748,1.258925437927246,999.0],\"y\":[2986511,2553615,2151415,1726932,1314918,921274,578491,308395,147294,58974,18733,5017,1054,206,47,25,13,2,0,0,0],\"type\":\"scatter\",\"xaxis\":\"x8\",\"yaxis\":\"y8\"},{\"mode\":\"lines+markers\",\"name\":\"avg_deg\",\"x\":[9.999999747378752e-05,0.0001643574796617031,0.00027013380895368755,0.0004439851036295295,0.0007297227275557816,0.0011993538355454803,0.001971227815374732,0.0032398602925240993,0.005324952770024538,0.008751957677304745,0.014384500682353973,0.023642001673579216,0.03885739669203758,0.0638650432229042,0.10496696829795837,0.17252106964588165,0.28355127573013306,0.46603772044181824,0.765967845916748,1.258925437927246,999.0],\"y\":[2047.6592389441207,1897.1879643387815,1744.8621248986212,1567.8002723558784,1374.0,1150.8732042473455,913.8878357030015,663.9289558665231,456.01857585139317,284.2120481927711,158.75423728813558,78.390625,34.557377049180324,16.48,9.4,7.142857142857143,5.2,2.0,0.0,0.0,0.0],\"type\":\"scatter\",\"xaxis\":\"x9\",\"yaxis\":\"y9\"},{\"mode\":\"lines+markers\",\"name\":\"density\",\"x\":[9.999999747378752e-05,0.0001643574796617031,0.00027013380895368755,0.0004439851036295295,0.0007297227275557816,0.0011993538355454803,0.001971227815374732,0.0032398602925240993,0.005324952770024538,0.008751957677304745,0.014384500682353973,0.023642001673579216,0.03885739669203758,0.0638650432229042,0.10496696829795837,0.17252106964588165,0.28355127573013306,0.46603772044181824,0.765967845916748,1.258925437927246,999.0],\"y\":[0.0001545112463645637,0.00013211477198638022,0.00011130640632472932,8.934519428294152e-05,6.802909047110006e-05,4.766337588080205e-05,2.9929025913588703e-05,1.5955238268361427e-05,7.620457381563028e-06,3.051100748052704e-06,9.691774494058336e-07,2.595613750600023e-07,5.4530136850416966e-08,1.0657692506299554e-08,2.431609580355598e-09,1.293409268576795e-09,6.725728307621637e-10,1.0347274426170117e-10,0.0,0.0,0.0],\"type\":\"scatter\",\"xaxis\":\"x10\",\"yaxis\":\"y10\"}],                        {\"template\":{\"data\":{\"histogram2dcontour\":[{\"type\":\"histogram2dcontour\",\"colorbar\":{\"outlinewidth\":0,\"ticks\":\"\"},\"colorscale\":[[0.0,\"#0d0887\"],[0.1111111111111111,\"#46039f\"],[0.2222222222222222,\"#7201a8\"],[0.3333333333333333,\"#9c179e\"],[0.4444444444444444,\"#bd3786\"],[0.5555555555555556,\"#d8576b\"],[0.6666666666666666,\"#ed7953\"],[0.7777777777777778,\"#fb9f3a\"],[0.8888888888888888,\"#fdca26\"],[1.0,\"#f0f921\"]]}],\"choropleth\":[{\"type\":\"choropleth\",\"colorbar\":{\"outlinewidth\":0,\"ticks\":\"\"}}],\"histogram2d\":[{\"type\":\"histogram2d\",\"colorbar\":{\"outlinewidth\":0,\"ticks\":\"\"},\"colorscale\":[[0.0,\"#0d0887\"],[0.1111111111111111,\"#46039f\"],[0.2222222222222222,\"#7201a8\"],[0.3333333333333333,\"#9c179e\"],[0.4444444444444444,\"#bd3786\"],[0.5555555555555556,\"#d8576b\"],[0.6666666666666666,\"#ed7953\"],[0.7777777777777778,\"#fb9f3a\"],[0.8888888888888888,\"#fdca26\"],[1.0,\"#f0f921\"]]}],\"heatmap\":[{\"type\":\"heatmap\",\"colorbar\":{\"outlinewidth\":0,\"ticks\":\"\"},\"colorscale\":[[0.0,\"#0d0887\"],[0.1111111111111111,\"#46039f\"],[0.2222222222222222,\"#7201a8\"],[0.3333333333333333,\"#9c179e\"],[0.4444444444444444,\"#bd3786\"],[0.5555555555555556,\"#d8576b\"],[0.6666666666666666,\"#ed7953\"],[0.7777777777777778,\"#fb9f3a\"],[0.8888888888888888,\"#fdca26\"],[1.0,\"#f0f921\"]]}],\"heatmapgl\":[{\"type\":\"heatmapgl\",\"colorbar\":{\"outlinewidth\":0,\"ticks\":\"\"},\"colorscale\":[[0.0,\"#0d0887\"],[0.1111111111111111,\"#46039f\"],[0.2222222222222222,\"#7201a8\"],[0.3333333333333333,\"#9c179e\"],[0.4444444444444444,\"#bd3786\"],[0.5555555555555556,\"#d8576b\"],[0.6666666666666666,\"#ed7953\"],[0.7777777777777778,\"#fb9f3a\"],[0.8888888888888888,\"#fdca26\"],[1.0,\"#f0f921\"]]}],\"contourcarpet\":[{\"type\":\"contourcarpet\",\"colorbar\":{\"outlinewidth\":0,\"ticks\":\"\"}}],\"contour\":[{\"type\":\"contour\",\"colorbar\":{\"outlinewidth\":0,\"ticks\":\"\"},\"colorscale\":[[0.0,\"#0d0887\"],[0.1111111111111111,\"#46039f\"],[0.2222222222222222,\"#7201a8\"],[0.3333333333333333,\"#9c179e\"],[0.4444444444444444,\"#bd3786\"],[0.5555555555555556,\"#d8576b\"],[0.6666666666666666,\"#ed7953\"],[0.7777777777777778,\"#fb9f3a\"],[0.8888888888888888,\"#fdca26\"],[1.0,\"#f0f921\"]]}],\"surface\":[{\"type\":\"surface\",\"colorbar\":{\"outlinewidth\":0,\"ticks\":\"\"},\"colorscale\":[[0.0,\"#0d0887\"],[0.1111111111111111,\"#46039f\"],[0.2222222222222222,\"#7201a8\"],[0.3333333333333333,\"#9c179e\"],[0.4444444444444444,\"#bd3786\"],[0.5555555555555556,\"#d8576b\"],[0.6666666666666666,\"#ed7953\"],[0.7777777777777778,\"#fb9f3a\"],[0.8888888888888888,\"#fdca26\"],[1.0,\"#f0f921\"]]}],\"mesh3d\":[{\"type\":\"mesh3d\",\"colorbar\":{\"outlinewidth\":0,\"ticks\":\"\"}}],\"scatter\":[{\"fillpattern\":{\"fillmode\":\"overlay\",\"size\":10,\"solidity\":0.2},\"type\":\"scatter\"}],\"parcoords\":[{\"type\":\"parcoords\",\"line\":{\"colorbar\":{\"outlinewidth\":0,\"ticks\":\"\"}}}],\"scatterpolargl\":[{\"type\":\"scatterpolargl\",\"marker\":{\"colorbar\":{\"outlinewidth\":0,\"ticks\":\"\"}}}],\"bar\":[{\"error_x\":{\"color\":\"#2a3f5f\"},\"error_y\":{\"color\":\"#2a3f5f\"},\"marker\":{\"line\":{\"color\":\"#E5ECF6\",\"width\":0.5},\"pattern\":{\"fillmode\":\"overlay\",\"size\":10,\"solidity\":0.2}},\"type\":\"bar\"}],\"scattergeo\":[{\"type\":\"scattergeo\",\"marker\":{\"colorbar\":{\"outlinewidth\":0,\"ticks\":\"\"}}}],\"scatterpolar\":[{\"type\":\"scatterpolar\",\"marker\":{\"colorbar\":{\"outlinewidth\":0,\"ticks\":\"\"}}}],\"histogram\":[{\"marker\":{\"pattern\":{\"fillmode\":\"overlay\",\"size\":10,\"solidity\":0.2}},\"type\":\"histogram\"}],\"scattergl\":[{\"type\":\"scattergl\",\"marker\":{\"colorbar\":{\"outlinewidth\":0,\"ticks\":\"\"}}}],\"scatter3d\":[{\"type\":\"scatter3d\",\"line\":{\"colorbar\":{\"outlinewidth\":0,\"ticks\":\"\"}},\"marker\":{\"colorbar\":{\"outlinewidth\":0,\"ticks\":\"\"}}}],\"scattermapbox\":[{\"type\":\"scattermapbox\",\"marker\":{\"colorbar\":{\"outlinewidth\":0,\"ticks\":\"\"}}}],\"scatterternary\":[{\"type\":\"scatterternary\",\"marker\":{\"colorbar\":{\"outlinewidth\":0,\"ticks\":\"\"}}}],\"scattercarpet\":[{\"type\":\"scattercarpet\",\"marker\":{\"colorbar\":{\"outlinewidth\":0,\"ticks\":\"\"}}}],\"carpet\":[{\"aaxis\":{\"endlinecolor\":\"#2a3f5f\",\"gridcolor\":\"white\",\"linecolor\":\"white\",\"minorgridcolor\":\"white\",\"startlinecolor\":\"#2a3f5f\"},\"baxis\":{\"endlinecolor\":\"#2a3f5f\",\"gridcolor\":\"white\",\"linecolor\":\"white\",\"minorgridcolor\":\"white\",\"startlinecolor\":\"#2a3f5f\"},\"type\":\"carpet\"}],\"table\":[{\"cells\":{\"fill\":{\"color\":\"#EBF0F8\"},\"line\":{\"color\":\"white\"}},\"header\":{\"fill\":{\"color\":\"#C8D4E3\"},\"line\":{\"color\":\"white\"}},\"type\":\"table\"}],\"barpolar\":[{\"marker\":{\"line\":{\"color\":\"#E5ECF6\",\"width\":0.5},\"pattern\":{\"fillmode\":\"overlay\",\"size\":10,\"solidity\":0.2}},\"type\":\"barpolar\"}],\"pie\":[{\"automargin\":true,\"type\":\"pie\"}]},\"layout\":{\"autotypenumbers\":\"strict\",\"colorway\":[\"#636efa\",\"#EF553B\",\"#00cc96\",\"#ab63fa\",\"#FFA15A\",\"#19d3f3\",\"#FF6692\",\"#B6E880\",\"#FF97FF\",\"#FECB52\"],\"font\":{\"color\":\"#2a3f5f\"},\"hovermode\":\"closest\",\"hoverlabel\":{\"align\":\"left\"},\"paper_bgcolor\":\"white\",\"plot_bgcolor\":\"#E5ECF6\",\"polar\":{\"bgcolor\":\"#E5ECF6\",\"angularaxis\":{\"gridcolor\":\"white\",\"linecolor\":\"white\",\"ticks\":\"\"},\"radialaxis\":{\"gridcolor\":\"white\",\"linecolor\":\"white\",\"ticks\":\"\"}},\"ternary\":{\"bgcolor\":\"#E5ECF6\",\"aaxis\":{\"gridcolor\":\"white\",\"linecolor\":\"white\",\"ticks\":\"\"},\"baxis\":{\"gridcolor\":\"white\",\"linecolor\":\"white\",\"ticks\":\"\"},\"caxis\":{\"gridcolor\":\"white\",\"linecolor\":\"white\",\"ticks\":\"\"}},\"coloraxis\":{\"colorbar\":{\"outlinewidth\":0,\"ticks\":\"\"}},\"colorscale\":{\"sequential\":[[0.0,\"#0d0887\"],[0.1111111111111111,\"#46039f\"],[0.2222222222222222,\"#7201a8\"],[0.3333333333333333,\"#9c179e\"],[0.4444444444444444,\"#bd3786\"],[0.5555555555555556,\"#d8576b\"],[0.6666666666666666,\"#ed7953\"],[0.7777777777777778,\"#fb9f3a\"],[0.8888888888888888,\"#fdca26\"],[1.0,\"#f0f921\"]],\"sequentialminus\":[[0.0,\"#0d0887\"],[0.1111111111111111,\"#46039f\"],[0.2222222222222222,\"#7201a8\"],[0.3333333333333333,\"#9c179e\"],[0.4444444444444444,\"#bd3786\"],[0.5555555555555556,\"#d8576b\"],[0.6666666666666666,\"#ed7953\"],[0.7777777777777778,\"#fb9f3a\"],[0.8888888888888888,\"#fdca26\"],[1.0,\"#f0f921\"]],\"diverging\":[[0,\"#8e0152\"],[0.1,\"#c51b7d\"],[0.2,\"#de77ae\"],[0.3,\"#f1b6da\"],[0.4,\"#fde0ef\"],[0.5,\"#f7f7f7\"],[0.6,\"#e6f5d0\"],[0.7,\"#b8e186\"],[0.8,\"#7fbc41\"],[0.9,\"#4d9221\"],[1,\"#276419\"]]},\"xaxis\":{\"gridcolor\":\"white\",\"linecolor\":\"white\",\"ticks\":\"\",\"title\":{\"standoff\":15},\"zerolinecolor\":\"white\",\"automargin\":true,\"zerolinewidth\":2},\"yaxis\":{\"gridcolor\":\"white\",\"linecolor\":\"white\",\"ticks\":\"\",\"title\":{\"standoff\":15},\"zerolinecolor\":\"white\",\"automargin\":true,\"zerolinewidth\":2},\"scene\":{\"xaxis\":{\"backgroundcolor\":\"#E5ECF6\",\"gridcolor\":\"white\",\"linecolor\":\"white\",\"showbackground\":true,\"ticks\":\"\",\"zerolinecolor\":\"white\",\"gridwidth\":2},\"yaxis\":{\"backgroundcolor\":\"#E5ECF6\",\"gridcolor\":\"white\",\"linecolor\":\"white\",\"showbackground\":true,\"ticks\":\"\",\"zerolinecolor\":\"white\",\"gridwidth\":2},\"zaxis\":{\"backgroundcolor\":\"#E5ECF6\",\"gridcolor\":\"white\",\"linecolor\":\"white\",\"showbackground\":true,\"ticks\":\"\",\"zerolinecolor\":\"white\",\"gridwidth\":2}},\"shapedefaults\":{\"line\":{\"color\":\"#2a3f5f\"}},\"annotationdefaults\":{\"arrowcolor\":\"#2a3f5f\",\"arrowhead\":0,\"arrowwidth\":1},\"geo\":{\"bgcolor\":\"white\",\"landcolor\":\"#E5ECF6\",\"subunitcolor\":\"white\",\"showland\":true,\"showlakes\":true,\"lakecolor\":\"white\"},\"title\":{\"x\":0.05},\"mapbox\":{\"style\":\"light\"}}},\"xaxis\":{\"anchor\":\"y\",\"domain\":[0.0,1.0],\"type\":\"log\"},\"yaxis\":{\"anchor\":\"x\",\"domain\":[0.9269999999999999,0.9999999999999999]},\"xaxis2\":{\"anchor\":\"y2\",\"domain\":[0.0,1.0],\"type\":\"log\"},\"yaxis2\":{\"anchor\":\"x2\",\"domain\":[0.824,0.8969999999999999]},\"xaxis3\":{\"anchor\":\"y3\",\"domain\":[0.0,1.0],\"type\":\"log\"},\"yaxis3\":{\"anchor\":\"x3\",\"domain\":[0.721,0.7939999999999999]},\"xaxis4\":{\"anchor\":\"y4\",\"domain\":[0.0,1.0],\"type\":\"log\"},\"yaxis4\":{\"anchor\":\"x4\",\"domain\":[0.618,0.691]},\"xaxis5\":{\"anchor\":\"y5\",\"domain\":[0.0,1.0],\"type\":\"log\"},\"yaxis5\":{\"anchor\":\"x5\",\"domain\":[0.515,0.588]},\"xaxis6\":{\"anchor\":\"y6\",\"domain\":[0.0,1.0],\"type\":\"log\"},\"yaxis6\":{\"anchor\":\"x6\",\"domain\":[0.412,0.485]},\"xaxis7\":{\"anchor\":\"y7\",\"domain\":[0.0,1.0],\"type\":\"log\"},\"yaxis7\":{\"anchor\":\"x7\",\"domain\":[0.30899999999999994,0.38199999999999995]},\"xaxis8\":{\"anchor\":\"y8\",\"domain\":[0.0,1.0],\"type\":\"log\"},\"yaxis8\":{\"anchor\":\"x8\",\"domain\":[0.206,0.27899999999999997]},\"xaxis9\":{\"anchor\":\"y9\",\"domain\":[0.0,1.0],\"type\":\"log\"},\"yaxis9\":{\"anchor\":\"x9\",\"domain\":[0.103,0.176]},\"xaxis10\":{\"anchor\":\"y10\",\"domain\":[0.0,1.0],\"type\":\"log\"},\"yaxis10\":{\"anchor\":\"x10\",\"domain\":[0.0,0.073]},\"title\":{\"text\":\"Faithfulness and graph properties w.r.t. threshold\"},\"height\":4600,\"width\":800,\"showlegend\":true},                        {\"responsive\": true}                    ).then(function(){\n",
       "                            \n",
       "var gd = document.getElementById('665743df-f31c-48b5-8bd7-d8f410a7a637');\n",
       "var x = new MutationObserver(function (mutations, observer) {{\n",
       "        var display = window.getComputedStyle(gd).display;\n",
       "        if (!display || display === 'none') {{\n",
       "            console.log([gd, 'removed!']);\n",
       "            Plotly.purge(gd);\n",
       "            observer.disconnect();\n",
       "        }}\n",
       "}});\n",
       "\n",
       "// Listen for the removal of the full notebook cells\n",
       "var notebookContainer = gd.closest('#notebook-container');\n",
       "if (notebookContainer) {{\n",
       "    x.observe(notebookContainer, {childList: true});\n",
       "}}\n",
       "\n",
       "// Listen for the clearing of the current output cell\n",
       "var outputEl = gd.closest('.output');\n",
       "if (outputEl) {{\n",
       "    x.observe(outputEl, {childList: true});\n",
       "}}\n",
       "\n",
       "                        })                };                });            </script>        </div>"
      ]
     },
     "metadata": {},
     "output_type": "display_data"
    }
   ],
   "source": [
    "plot_faithfulness(results, save_path=None)"
   ]
  },
  {
   "cell_type": "code",
   "execution_count": 110,
   "metadata": {},
   "outputs": [
    {
     "name": "stdout",
     "output_type": "stream",
     "text": [
      "{'complete': {'logit': tensor(2.4818, device='cuda:0'), 'KL': tensor([0.], device='cuda:0'), 'Statistical Distance': tensor([0.], device='cuda:0')}, 'empty': {'logit': tensor(2.1764, device='cuda:0'), 'KL': tensor([0.0477], device='cuda:0'), 'Statistical Distance': tensor([0.1168], device='cuda:0')}, 9.999999747378752e-05: {'n_nodes': 2917, 'n_edges': 2986511, 'avg_deg': 2047.6592389441207, 'density': tensor(0.0002), 'faithfulness': {'logit': 2.4891357421875, 'KL': 0.0003356989473104477, 'Statistical Distance': 0.009500189684331417, 'faithfulness_logit': 1.0239808559417725, 'faithfulness_KL': 0.9929583072662354, 'faithfulness_Statistical Distance': 0.9186869859695435}}, 0.0001643574796617031: {'n_nodes': 2692, 'n_edges': 2553615, 'avg_deg': 1897.1879643387815, 'density': tensor(0.0001), 'faithfulness': {'logit': 2.48046875, 'KL': 0.00034572184085845947, 'Statistical Distance': 0.008843712508678436, 'faithfulness_logit': 0.9956035017967224, 'faithfulness_KL': 0.9927480220794678, 'faithfulness_Statistical Distance': 0.9243058562278748}}, 0.00027013380895368755: {'n_nodes': 2466, 'n_edges': 2151415, 'avg_deg': 1744.8621248986212, 'density': tensor(0.0001), 'faithfulness': {'logit': 2.4659423828125, 'KL': 0.0007738028652966022, 'Statistical Distance': 0.015384561382234097, 'faithfulness_logit': 0.948041558265686, 'faithfulness_KL': 0.9837684631347656, 'faithfulness_Statistical Distance': 0.8683220744132996}}, 0.0004439851036295295: {'n_nodes': 2203, 'n_edges': 1726932, 'avg_deg': 1567.8002723558784, 'density': tensor(8.9345e-05), 'faithfulness': {'logit': 2.4931640625, 'KL': 0.0010038330219686031, 'Statistical Distance': 0.017870567739009857, 'faithfulness_logit': 1.0371702909469604, 'faithfulness_KL': 0.9789432883262634, 'faithfulness_Statistical Distance': 0.8470441102981567}}, 0.0007297227275557816: {'n_nodes': 1914, 'n_edges': 1314918, 'avg_deg': 1374.0, 'density': tensor(6.8029e-05), 'faithfulness': {'logit': 2.450439453125, 'KL': 0.0014394547324627638, 'Statistical Distance': 0.02204575017094612, 'faithfulness_logit': 0.8972821831703186, 'faithfulness_KL': 0.9698054790496826, 'faithfulness_Statistical Distance': 0.8113083839416504}}, 0.0011993538355454803: {'n_nodes': 1601, 'n_edges': 921274, 'avg_deg': 1150.8732042473455, 'density': tensor(4.7663e-05), 'faithfulness': {'logit': 2.4312744140625, 'KL': 0.0017834627069532871, 'Statistical Distance': 0.02265026792883873, 'faithfulness_logit': 0.8345323801040649, 'faithfulness_KL': 0.9625895023345947, 'faithfulness_Statistical Distance': 0.8061341643333435}}, 0.001971227815374732: {'n_nodes': 1266, 'n_edges': 578491, 'avg_deg': 913.8878357030015, 'density': tensor(2.9929e-05), 'faithfulness': {'logit': 2.393310546875, 'KL': 0.0029769744724035263, 'Statistical Distance': 0.03066226653754711, 'faithfulness_logit': 0.7102318406105042, 'faithfulness_KL': 0.9375540614128113, 'faithfulness_Statistical Distance': 0.7375587224960327}}, 0.0032398602925240993: {'n_nodes': 929, 'n_edges': 308395, 'avg_deg': 663.9289558665231, 'density': tensor(1.5955e-05), 'faithfulness': {'logit': 2.357177734375, 'KL': 0.005828524474054575, 'Statistical Distance': 0.044757090508937836, 'faithfulness_logit': 0.5919264554977417, 'faithfulness_KL': 0.8777389526367188, 'faithfulness_Statistical Distance': 0.6169198155403137}}, 0.005324952770024538: {'n_nodes': 646, 'n_edges': 147294, 'avg_deg': 456.01857585139317, 'density': tensor(7.6205e-06), 'faithfulness': {'logit': 2.244873046875, 'KL': 0.010149048641324043, 'Statistical Distance': 0.057959746569395065, 'faithfulness_logit': 0.2242206186056137, 'faithfulness_KL': 0.7871102094650269, 'faithfulness_Statistical Distance': 0.5039170384407043}}, 0.008751957677304745: {'n_nodes': 415, 'n_edges': 58974, 'avg_deg': 284.2120481927711, 'density': tensor(3.0511e-06), 'faithfulness': {'logit': 2.3397216796875, 'KL': 0.017404276877641678, 'Statistical Distance': 0.07431070506572723, 'faithfulness_logit': 0.5347721576690674, 'faithfulness_KL': 0.634922206401825, 'faithfulness_Statistical Distance': 0.3639676570892334}}, 0.014384500682353973: {'n_nodes': 236, 'n_edges': 18733, 'avg_deg': 158.75423728813558, 'density': tensor(9.6918e-07), 'faithfulness': {'logit': 2.3839111328125, 'KL': 0.019076023250818253, 'Statistical Distance': 0.0739564448595047, 'faithfulness_logit': 0.6794564127922058, 'faithfulness_KL': 0.5998551249504089, 'faithfulness_Statistical Distance': 0.3669998049736023}}, 0.023642001673579216: {'n_nodes': 128, 'n_edges': 5017, 'avg_deg': 78.390625, 'density': tensor(2.5956e-07), 'faithfulness': {'logit': 2.01513671875, 'KL': 0.029309868812561035, 'Statistical Distance': 0.09457028657197952, 'faithfulness_logit': -0.5279776453971863, 'faithfulness_KL': 0.3851866126060486, 'faithfulness_Statistical Distance': 0.19056397676467896}}, 0.03885739669203758: {'n_nodes': 61, 'n_edges': 1054, 'avg_deg': 34.557377049180324, 'density': tensor(5.4530e-08), 'faithfulness': {'logit': 2.007080078125, 'KL': 0.03361905738711357, 'Statistical Distance': 0.09989243000745773, 'faithfulness_logit': -0.5543565154075623, 'faithfulness_KL': 0.2947956621646881, 'faithfulness_Statistical Distance': 0.14501126110553741}}, 0.0638650432229042: {'n_nodes': 25, 'n_edges': 206, 'avg_deg': 16.48, 'density': tensor(1.0658e-08), 'faithfulness': {'logit': 2.1650390625, 'KL': 0.030940942466259003, 'Statistical Distance': 0.0954199731349945, 'faithfulness_logit': -0.03717026486992836, 'faithfulness_KL': 0.3509726822376251, 'faithfulness_Statistical Distance': 0.18329143524169922}}, 0.10496696829795837: {'n_nodes': 10, 'n_edges': 47, 'avg_deg': 9.4, 'density': tensor(2.4316e-09), 'faithfulness': {'logit': 2.3438720703125, 'KL': 0.03102860599756241, 'Statistical Distance': 0.09574088454246521, 'faithfulness_logit': 0.5483613014221191, 'faithfulness_KL': 0.34913381934165955, 'faithfulness_Statistical Distance': 0.18054471909999847}}, 0.17252106964588165: {'n_nodes': 7, 'n_edges': 25, 'avg_deg': 7.142857142857143, 'density': tensor(1.2934e-09), 'faithfulness': {'logit': 2.2637939453125, 'KL': 0.04362988844513893, 'Statistical Distance': 0.10900967568159103, 'faithfulness_logit': 0.2861710488796234, 'faithfulness_KL': 0.0848052129149437, 'faithfulness_Statistical Distance': 0.06697589159011841}}, 0.28355127573013306: {'n_nodes': 5, 'n_edges': 13, 'avg_deg': 5.2, 'density': tensor(6.7257e-10), 'faithfulness': {'logit': 2.0863037109375, 'KL': 0.04387107864022255, 'Statistical Distance': 0.1114208847284317, 'faithfulness_logit': -0.2949640154838562, 'faithfulness_KL': 0.07974592596292496, 'faithfulness_Statistical Distance': 0.046338122338056564}}, 0.46603772044181824: {'n_nodes': 2, 'n_edges': 2, 'avg_deg': 2.0, 'density': tensor(1.0347e-10), 'faithfulness': {'logit': 2.194580078125, 'KL': 0.04991466552019119, 'Statistical Distance': 0.12026631832122803, 'faithfulness_logit': 0.059552356600761414, 'faithfulness_KL': -0.04702632129192352, 'faithfulness_Statistical Distance': -0.029370779171586037}}, 0.765967845916748: {'n_nodes': 0, 'n_edges': 0, 'avg_deg': 0.0, 'density': tensor(0.), 'faithfulness': {'logit': 2.1763916015625, 'KL': 0.04767295718193054, 'Statistical Distance': 0.1168353334069252, 'faithfulness_logit': 0.0, 'faithfulness_KL': -3.5164307519153226e-06, 'faithfulness_Statistical Distance': -4.65522634840454e-06}}, 1.258925437927246: {'n_nodes': 0, 'n_edges': 0, 'avg_deg': 0.0, 'density': tensor(0.), 'faithfulness': {'logit': 2.1763916015625, 'KL': 0.04767295718193054, 'Statistical Distance': 0.1168353334069252, 'faithfulness_logit': 0.0, 'faithfulness_KL': -3.5164307519153226e-06, 'faithfulness_Statistical Distance': -4.65522634840454e-06}}, 999.0: {'n_nodes': 0, 'n_edges': 0, 'avg_deg': 0.0, 'density': tensor(0.), 'faithfulness': {'logit': 2.1763916015625, 'KL': 0.04767295718193054, 'Statistical Distance': 0.1168353334069252, 'faithfulness_logit': 0.0, 'faithfulness_KL': -3.5164307519153226e-06, 'faithfulness_Statistical Distance': -4.65522634840454e-06}}}\n"
     ]
    }
   ],
   "source": [
    "print(results)"
   ]
  }
 ],
 "metadata": {
  "kernelspec": {
   "display_name": "Python 3",
   "language": "python",
   "name": "python3"
  },
  "language_info": {
   "codemirror_mode": {
    "name": "ipython",
    "version": 3
   },
   "file_extension": ".py",
   "mimetype": "text/x-python",
   "name": "python",
   "nbconvert_exporter": "python",
   "pygments_lexer": "ipython3",
   "version": "3.10.9"
  }
 },
 "nbformat": 4,
 "nbformat_minor": 4
}
