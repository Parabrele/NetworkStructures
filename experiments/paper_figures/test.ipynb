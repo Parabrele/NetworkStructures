{
 "cells": [
  {
   "cell_type": "code",
   "execution_count": 4,
   "metadata": {},
   "outputs": [],
   "source": [
    "names = [\n",
    "    \"Aaron\",\n",
    "    \"Adam\",\n",
    "    \"Alan\",\n",
    "    \"Alex\",\n",
    "    \"Alice\",\n",
    "    \"Amy\",\n",
    "    \"Anderson\",\n",
    "    \"Andre\",\n",
    "    \"Andrew\",\n",
    "    \"Andy\",\n",
    "    \"Anna\",\n",
    "    \"Anthony\",\n",
    "    \"Arthur\",\n",
    "    \"Austin\",\n",
    "    \"Blake\",\n",
    "    \"Brandon\",\n",
    "    \"Brian\",\n",
    "    \"Carter\",\n",
    "    \"Charles\",\n",
    "    \"Charlie\",\n",
    "    \"Christian\",\n",
    "    \"Christopher\",\n",
    "    \"Clark\",\n",
    "    \"Cole\",\n",
    "    \"Collins\",\n",
    "    \"Connor\",\n",
    "    \"Crew\",\n",
    "    \"Crystal\",\n",
    "    \"Daniel\",\n",
    "    \"David\",\n",
    "    \"Dean\",\n",
    "    \"Edward\",\n",
    "    \"Elizabeth\",\n",
    "    \"Emily\",\n",
    "    \"Eric\",\n",
    "    \"Eva\",\n",
    "    \"Ford\",\n",
    "    \"Frank\",\n",
    "    \"George\",\n",
    "    \"Georgia\",\n",
    "    \"Graham\",\n",
    "    \"Grant\",\n",
    "    \"Henry\",\n",
    "    \"Ian\",\n",
    "    \"Jack\",\n",
    "    \"Jacob\",\n",
    "    \"Jake\",\n",
    "    \"James\",\n",
    "    \"Jamie\",\n",
    "    \"Jane\",\n",
    "    \"Jason\",\n",
    "    \"Jay\",\n",
    "    \"Jennifer\",\n",
    "    \"Jeremy\",\n",
    "    \"Jessica\",\n",
    "    \"John\",\n",
    "    \"Jonathan\",\n",
    "    \"Jordan\",\n",
    "    \"Joseph\",\n",
    "    \"Joshua\",\n",
    "    \"Justin\",\n",
    "    \"Kate\",\n",
    "    \"Kelly\",\n",
    "    \"Kevin\",\n",
    "    \"Kyle\",\n",
    "    \"Laura\",\n",
    "    \"Leon\",\n",
    "    \"Lewis\",\n",
    "    \"Lisa\",\n",
    "    \"Louis\",\n",
    "    \"Luke\",\n",
    "    \"Madison\",\n",
    "    \"Marco\",\n",
    "    \"Marcus\",\n",
    "    \"Maria\",\n",
    "    \"Mark\",\n",
    "    \"Martin\",\n",
    "    \"Mary\",\n",
    "    \"Matthew\",\n",
    "    \"Max\",\n",
    "    \"Michael\",\n",
    "    \"Michelle\",\n",
    "    \"Morgan\",\n",
    "    \"Patrick\",\n",
    "    \"Paul\",\n",
    "    \"Peter\",\n",
    "    \"Prince\",\n",
    "    \"Rachel\",\n",
    "    \"Richard\",\n",
    "    \"River\",\n",
    "    \"Robert\",\n",
    "    \"Roman\",\n",
    "    \"Rose\",\n",
    "    \"Ruby\",\n",
    "    \"Russell\",\n",
    "    \"Ryan\",\n",
    "    \"Sarah\",\n",
    "    \"Scott\",\n",
    "    \"Sean\",\n",
    "    \"Simon\",\n",
    "    \"Stephen\",\n",
    "    \"Steven\",\n",
    "    \"Sullivan\",\n",
    "    \"Taylor\",\n",
    "    \"Thomas\",\n",
    "    \"Tyler\",\n",
    "    \"Victoria\",\n",
    "    \"Warren\",\n",
    "    \"William\"\n",
    "]"
   ]
  },
  {
   "cell_type": "code",
   "execution_count": 2,
   "metadata": {},
   "outputs": [
    {
     "name": "stderr",
     "output_type": "stream",
     "text": [
      "/scratch/pyllm/dhimoila/env/lib/python3.10/site-packages/tqdm/auto.py:21: TqdmWarning: IProgress not found. Please update jupyter and ipywidgets. See https://ipywidgets.readthedocs.io/en/stable/user_install.html\n",
      "  from .autonotebook import tqdm as notebook_tqdm\n",
      "Special tokens have been added in the vocabulary, make sure the associated word embeddings are fine-tuned or trained.\n"
     ]
    }
   ],
   "source": [
    "import torch\n",
    "from transformers import AutoTokenizer\n",
    "\n",
    "tokenizer = AutoTokenizer.from_pretrained(\"EleutherAI/pythia-70m-deduped\")"
   ]
  },
  {
   "cell_type": "code",
   "execution_count": 7,
   "metadata": {},
   "outputs": [
    {
     "name": "stdout",
     "output_type": "stream",
     "text": [
      "66 109\n"
     ]
    }
   ],
   "source": [
    "s = 0\n",
    "t = 0\n",
    "single_token = []\n",
    "for name in names:\n",
    "    t += 1\n",
    "    if len(tokenizer.encode(name)) == 1 :\n",
    "        s += 1\n",
    "        single_token.append(name)\n",
    "\n",
    "print(s, t)"
   ]
  },
  {
   "cell_type": "code",
   "execution_count": null,
   "metadata": {},
   "outputs": [
    {
     "ename": "",
     "evalue": "",
     "output_type": "error",
     "traceback": [
      "\u001b[1;31mFailed to start the Kernel 'env (Python 3.10.13)'. \n",
      "\u001b[1;31mView Jupyter <a href='command:jupyter.viewOutput'>log</a> for further details. Cannot find module '@jupyterlab/services'\n",
      "\u001b[1;31mRequire stack:\n",
      "\u001b[1;31m- /home/pyllm/dhimoila/.vscode-server/extensions/ms-toolsai.jupyter-2024.6.0/dist/extension.node.js\n",
      "\u001b[1;31m- /home/pyllm/dhimoila/.vscode-server/extensions/ms-toolsai.jupyter-2024.6.0/dist/extension.node.proxy.js\n",
      "\u001b[1;31m- /home/pyllm/dhimoila/.vscode-server/cli/servers/Stable-f1e16e1e6214d7c44d078b1f0607b2388f29d729/server/out/vs/loader.js\n",
      "\u001b[1;31m- /home/pyllm/dhimoila/.vscode-server/cli/servers/Stable-f1e16e1e6214d7c44d078b1f0607b2388f29d729/server/out/bootstrap-amd.js\n",
      "\u001b[1;31m- /home/pyllm/dhimoila/.vscode-server/cli/servers/Stable-f1e16e1e6214d7c44d078b1f0607b2388f29d729/server/out/bootstrap-fork.js"
     ]
    }
   ],
   "source": [
    "from datasets import load_dataset"
   ]
  },
  {
   "cell_type": "code",
   "execution_count": null,
   "metadata": {},
   "outputs": [
    {
     "ename": "",
     "evalue": "",
     "output_type": "error",
     "traceback": [
      "\u001b[1;31mFailed to start the Kernel 'env (Python 3.10.13)'. \n",
      "\u001b[1;31mView Jupyter <a href='command:jupyter.viewOutput'>log</a> for further details. Cannot find module '@jupyterlab/services'\n",
      "\u001b[1;31mRequire stack:\n",
      "\u001b[1;31m- /home/pyllm/dhimoila/.vscode-server/extensions/ms-toolsai.jupyter-2024.6.0/dist/extension.node.js\n",
      "\u001b[1;31m- /home/pyllm/dhimoila/.vscode-server/extensions/ms-toolsai.jupyter-2024.6.0/dist/extension.node.proxy.js\n",
      "\u001b[1;31m- /home/pyllm/dhimoila/.vscode-server/cli/servers/Stable-f1e16e1e6214d7c44d078b1f0607b2388f29d729/server/out/vs/loader.js\n",
      "\u001b[1;31m- /home/pyllm/dhimoila/.vscode-server/cli/servers/Stable-f1e16e1e6214d7c44d078b1f0607b2388f29d729/server/out/bootstrap-amd.js\n",
      "\u001b[1;31m- /home/pyllm/dhimoila/.vscode-server/cli/servers/Stable-f1e16e1e6214d7c44d078b1f0607b2388f29d729/server/out/bootstrap-fork.js"
     ]
    }
   ],
   "source": [
    "ds = load_dataset(\"fahamu/ioi\")"
   ]
  },
  {
   "cell_type": "code",
   "execution_count": 8,
   "metadata": {},
   "outputs": [
    {
     "name": "stdout",
     "output_type": "stream",
     "text": [
      "66 66\n"
     ]
    }
   ],
   "source": [
    "s = 0\n",
    "t = 0\n",
    "for name in single_token:\n",
    "    t += 1\n",
    "    if len(tokenizer.encode(\"When \" + name)) == 2:\n",
    "        s += 1\n",
    "    \n",
    "print(s, t)"
   ]
  },
  {
   "cell_type": "code",
   "execution_count": 1,
   "metadata": {},
   "outputs": [],
   "source": [
    "import graph_tool.all as gt\n",
    "\n",
    "import random\n",
    "import numpy as np\n",
    "import torch\n",
    "from matplotlib import pyplot as plt\n",
    "import networkx as nx\n",
    "from sklearn.cluster import SpectralClustering"
   ]
  },
  {
   "cell_type": "code",
   "execution_count": 2,
   "metadata": {},
   "outputs": [
    {
     "name": "stdout",
     "output_type": "stream",
     "text": [
      "<Graph object, directed, with 400 vertices and 1238 edges, at 0x1481b57e6da0>\n",
      "<BlockState object with 400 blocks (2 nonempty), degree-corrected, for graph <Graph object, directed, with 400 vertices and 1238 edges, at 0x1481b57e6da0>, at 0x1481b57e76a0>\n"
     ]
    },
    {
     "data": {
      "image/png": "[encoded data removed]",
      "text/plain": [
       "<Figure size 640x480 with 1 Axes>"
      ]
     },
     "metadata": {},
     "output_type": "display_data"
    },
    {
     "name": "stdout",
     "output_type": "stream",
     "text": [
      "<Compressed Sparse Row sparse matrix of dtype 'float64'\n",
      "\twith 2 stored elements and shape (2, 2)>\n",
      "  Coords\tValues\n",
      "  (0, 0)\t1232.0\n",
      "  (0, 1)\t6.0\n",
      "[[1232.    6.]\n",
      " [   0.    0.]]\n"
     ]
    },
    {
     "data": {
      "image/png": "[encoded data removed]",
      "text/plain": [
       "<Figure size 640x480 with 1 Axes>"
      ]
     },
     "metadata": {},
     "output_type": "display_data"
    }
   ],
   "source": [
    "# Erdos-Renyi graph :\n",
    "n = 400\n",
    "p = 3 / (n - 1)\n",
    "A_er = torch.rand(n, n) < p\n",
    "\n",
    "G_gt = gt.Graph(directed=True)\n",
    "G_gt.add_edge_list(A_er.nonzero().numpy())\n",
    "print(G_gt)\n",
    "B = 2\n",
    "r = 1\n",
    "state = gt.minimize_blockmodel_dl(G_gt, multilevel_mcmc_args=dict(B_min=B, B_max=B, r=r, parallel=True))\n",
    "print(state)\n",
    "propert_map = state.get_blocks()\n",
    "propert_map = propert_map.get_array()\n",
    "propert_map = torch.tensor(propert_map)\n",
    "\n",
    "perm = torch.argsort(propert_map)\n",
    "A_er = A_er[perm][:, perm]\n",
    "plt.imshow(1-A_er.float(), cmap='gray')\n",
    "plt.axis('off')\n",
    "plt.show()\n",
    "\n",
    "#state.draw(output_size=(200, 200))\n",
    "\n",
    "b = gt.contiguous_map(state.get_blocks())\n",
    "state = state.copy(b=b)\n",
    "\n",
    "e = state.get_matrix()\n",
    "print(e)\n",
    "\n",
    "B = state.get_nonempty_B()\n",
    "t = e.toarray()\n",
    "print(t)\n",
    "# visualize the matrix :\n",
    "plt.imshow(t**0.5, cmap='inferno')\n",
    "plt.axis('off')\n",
    "plt.show()"
   ]
  },
  {
   "cell_type": "code",
   "execution_count": 3,
   "metadata": {},
   "outputs": [
    {
     "data": {
      "image/png": "[encoded data removed]",
      "text/plain": [
       "<Figure size 640x480 with 1 Axes>"
      ]
     },
     "metadata": {},
     "output_type": "display_data"
    },
    {
     "data": {
      "image/png": "[encoded data removed]",
      "text/plain": [
       "<Figure size 640x480 with 1 Axes>"
      ]
     },
     "metadata": {},
     "output_type": "display_data"
    },
    {
     "data": {
      "text/plain": [
       "(<VertexPropertyMap object with value type 'vector<double>', for Graph 0x147d13f98b20, at 0x147d2b27ee60>,\n",
       " <GraphView object, directed, with 107 vertices and 106 edges, edges filtered by (<EdgePropertyMap object with value type 'bool', for Graph 0x147d30314df0, at 0x147d2b27ea70>, False), vertices filtered by (<VertexPropertyMap object with value type 'bool', for Graph 0x147d30314df0, at 0x147d2b27eb30>, False), at 0x147d30314df0>,\n",
       " <VertexPropertyMap object with value type 'vector<double>', for Graph 0x147d30314df0, at 0x147d2b27cbb0>)"
      ]
     },
     "execution_count": 3,
     "metadata": {},
     "output_type": "execute_result"
    }
   ],
   "source": [
    "# plot for dummy adjacency matrices to show some graph structures\n",
    "\n",
    "\"\"\"\n",
    "Structures to show :\n",
    "- modular structure\n",
    "- core-periphery structure\n",
    "- ordered structure\n",
    "\"\"\"\n",
    "\n",
    "n = 100\n",
    "\n",
    "p_dense = 0.7\n",
    "p_sparse = 0.1\n",
    "\n",
    "# modular structure\n",
    "n = 100\n",
    "n_blocks = 5\n",
    "while True:\n",
    "    block_idx = torch.tensor(random.choices(torch.arange(n//n_blocks - 5, n//n_blocks+5), k=n_blocks-1))\n",
    "    block_idx = torch.cumsum(block_idx, dim=0)\n",
    "    if block_idx[-1] < n:\n",
    "        break\n",
    "block_idx = torch.cat((torch.tensor([0]), block_idx, torch.tensor([n])))\n",
    "\n",
    "A_modular = torch.rand(n, n) < p_sparse\n",
    "for i in range(n_blocks):\n",
    "    A_modular[block_idx[i]:block_idx[i+1], block_idx[i]:block_idx[i+1]] = torch.rand(block_idx[i+1]-block_idx[i], block_idx[i+1]-block_idx[i]) < p_dense\n",
    "\n",
    "plt.imshow(1 - A_modular.float(), cmap='gray')\n",
    "plt.axis('off')\n",
    "plt.show()\n",
    "\n",
    "G_gt = gt.Graph(directed=True)\n",
    "G_gt.add_edge_list(A_modular.nonzero().numpy())\n",
    "\n",
    "state = gt.minimize_nested_blockmodel_dl(G_gt)\n",
    "\n",
    "blockstate = state.get_levels()[0]\n",
    "b = gt.contiguous_map(blockstate.get_blocks())\n",
    "blockstate = blockstate.copy(b=b)\n",
    "\n",
    "propert_map = blockstate.get_blocks()\n",
    "propert_map = torch.tensor(propert_map)\n",
    "\n",
    "perm = torch.argsort(propert_map)\n",
    "A_modular = A_modular[perm][:, perm]\n",
    "\n",
    "plt.imshow(1 - A_modular.float(), cmap='gray')\n",
    "plt.axis('off')\n",
    "plt.show()\n",
    "\n",
    "e = blockstate.get_matrix()\n",
    "B = blockstate.get_nonempty_B()\n",
    "t = e.toarray()[:B, :B]\n",
    "\n",
    "# Create new edge property (ep) named \"t\" and for each edge e=(u, v) set ep[e] = t[B_u, B_v]\n",
    "ep = G_gt.new_edge_property(\"double\")\n",
    "for e in G_gt.edges():\n",
    "    u, v = e\n",
    "    ep[e] = t[propert_map[int(u)], propert_map[int(v)]]\n",
    "G_gt.ep['t'] = ep\n",
    "\n",
    "edge_color = G_gt.ep['t']\n",
    "\n",
    "state.draw(output=\"modular.png\", output_size=(400, 400), eorder=edge_color, edge_pen_width=gt.prop_to_size(edge_color, mi=1, ma=2, power=1, log=False))"
   ]
  },
  {
   "cell_type": "code",
   "execution_count": 5,
   "metadata": {},
   "outputs": [
    {
     "data": {
      "image/png": "[encoded data removed]",
      "text/plain": [
       "<Figure size 640x480 with 1 Axes>"
      ]
     },
     "metadata": {},
     "output_type": "display_data"
    },
    {
     "data": {
      "image/png": "[encoded data removed]",
      "text/plain": [
       "<Figure size 640x480 with 1 Axes>"
      ]
     },
     "metadata": {},
     "output_type": "display_data"
    }
   ],
   "source": [
    "# core-periphery structure\n",
    "n_core = 20\n",
    "n_periphery = n - n_core\n",
    "A_core_periphery = torch.rand(n, n) < p_sparse\n",
    "A_core_periphery[:n_core, :] = torch.rand(n_core, n) < p_dense\n",
    "A_core_periphery[:, :n_core] = torch.rand(n, n_core) < p_dense\n",
    "\n",
    "plt.imshow(1 - A_core_periphery.float(), cmap='gray')\n",
    "plt.axis('off')\n",
    "plt.show()\n",
    "\n",
    "G_gt = gt.Graph(directed=True)\n",
    "G_gt.add_edge_list(A_core_periphery.nonzero().numpy())\n",
    "\n",
    "state = gt.minimize_nested_blockmodel_dl(G_gt)\n",
    "blockstate = state.get_levels()[0]\n",
    "b = gt.contiguous_map(blockstate.get_blocks())\n",
    "blockstate = blockstate.copy(b=b)\n",
    "\n",
    "propert_map = blockstate.get_blocks()\n",
    "propert_map = torch.tensor(propert_map)\n",
    "\n",
    "perm = torch.argsort(propert_map)\n",
    "A_core_periphery = A_core_periphery[perm][:, perm]\n",
    "\n",
    "plt.imshow(1 - A_core_periphery.float(), cmap='gray')\n",
    "plt.axis('off')\n",
    "plt.show()\n",
    "\n",
    "e = blockstate.get_matrix()\n",
    "B = blockstate.get_nonempty_B()\n",
    "t = e.toarray()[:B, :B]\n",
    "\n",
    "# Create new edge property (ep) named \"t\" and for each edge e=(u, v) set ep[e] = t[B_u, B_v]\n",
    "ep = G_gt.new_edge_property(\"double\")\n",
    "for e in G_gt.edges():\n",
    "    u, v = e\n",
    "    ep[e] = t[propert_map[int(u)], propert_map[int(v)]]\n",
    "G_gt.ep['t'] = ep\n",
    "\n",
    "edge_color = G_gt.ep['t']\n",
    "\n",
    "state.draw(output_size=(400, 400), output=\"core_periphery.png\", eorder=edge_color, edge_pen_width=gt.prop_to_size(edge_color, mi=0.5, ma=2, power=1, log=False))\n",
    "\n",
    "import pickle\n",
    "\n",
    "# Assume `G_gt` is your graph and `state_args` are defined\n",
    "\n",
    "# Save the state to a file named \"dummy_state.pkl\"\n",
    "with open(\"dummy_state.pkl\", \"wb\") as f:\n",
    "    pickle.dump(state, f)"
   ]
  },
  {
   "cell_type": "code",
   "execution_count": 1,
   "metadata": {},
   "outputs": [
    {
     "name": "stdout",
     "output_type": "stream",
     "text": [
      "login01\n"
     ]
    }
   ],
   "source": [
    "import socket\n",
    "\n",
    "hostname = socket.gethostname()\n",
    "\n",
    "print(hostname)"
   ]
  },
  {
   "cell_type": "code",
   "execution_count": 17,
   "metadata": {},
   "outputs": [
    {
     "data": {
      "image/png": "[encoded data removed]",
      "text/plain": [
       "<Figure size 640x480 with 1 Axes>"
      ]
     },
     "metadata": {},
     "output_type": "display_data"
    }
   ],
   "source": [
    "import time\n",
    "import graph_tool.all as gt\n",
    "import torch\n",
    "from matplotlib import pyplot as plt\n",
    "from tqdm import tqdm\n",
    "\n",
    "ns = [100] + list(range(2, 100)) + list(range(100, 300, 10))\n",
    "t = [1.963378667831421, 0.006550312042236328, 0.009035348892211914, 0.009070873260498047, 0.012032032012939453, 0.012030601501464844, 0.01216578483581543, 0.012775421142578125, 0.015335798263549805, 0.015766382217407227, 0.016280412673950195, 0.016531705856323242, 0.01762557029724121, 0.022164583206176758, 0.016646623611450195, 0.017831802368164062, 0.021909475326538086, 0.019816160202026367, 0.02218341827392578, 0.020901918411254883, 0.0219573974609375, 0.024624347686767578, 0.027451038360595703, 0.023135662078857422, 0.01841139793395996, 0.03085041046142578, 0.025343894958496094, 0.029861927032470703, 0.025432109832763672, 0.025658369064331055, 0.03693103790283203, 0.04302024841308594, 0.02789449691772461, 0.03206634521484375, 0.03224468231201172, 0.03940439224243164, 0.03791642189025879, 0.047580718994140625, 0.04213428497314453, 0.04482150077819824, 0.06422233581542969, 0.04831194877624512, 0.04381418228149414, 0.03747153282165527, 0.0645599365234375, 0.09962725639343262, 0.06803059577941895, 0.05772709846496582, 0.08681058883666992, 0.06342625617980957, 0.07480716705322266, 0.0544741153717041, 0.07541012763977051, 0.05409646034240723, 0.1128244400024414, 0.05680704116821289, 0.08432435989379883, 0.06698846817016602, 0.045590877532958984, 0.0668950080871582, 0.10092425346374512, 0.07248640060424805, 0.18813610076904297, 0.15528559684753418, 0.10572123527526855, 0.1095418930053711, 0.12538695335388184, 0.1628892421722412, 0.0791313648223877, 0.0876624584197998, 0.08715629577636719, 0.08756136894226074, 0.11502575874328613, 0.10806989669799805, 0.10480380058288574, 0.09806418418884277, 0.22543978691101074, 0.12257575988769531, 0.11574769020080566, 0.17373085021972656, 0.1237175464630127, 0.14870333671569824, 0.21282291412353516, 0.23948287963867188, 0.17976689338684082, 0.20469403266906738, 0.35465335845947266, 0.17934775352478027, 0.17533564567565918, 0.21473336219787598, 0.2050766944885254, 0.17863035202026367, 0.19446349143981934, 0.20441222190856934, 0.16521334648132324, 0.1747901439666748, 0.17281866073608398, 0.16336536407470703, 0.16663765907287598, 0.272202730178833, 0.29002833366394043, 0.19495677947998047, 0.4486098289489746, 0.5462374687194824, 0.6612837314605713, 0.9084439277648926, 1.2678699493408203, 0.6140592098236084, 0.8983485698699951, 1.3039641380310059, 0.900301456451416, 1.5369877815246582, 2.4061808586120605, 0.8388671875, 1.452751874923706, 1.5751652717590332, 1.578904151916504, 2.7444887161254883, 1.8958563804626465]\n",
    "\n",
    "plt.plot(ns[1:], t[1:])\n",
    "plt.show()"
   ]
  },
  {
   "cell_type": "code",
   "execution_count": 137,
   "metadata": {},
   "outputs": [
    {
     "data": {
      "image/png": "[encoded data removed]",
      "text/plain": [
       "<Figure size 640x480 with 1 Axes>"
      ]
     },
     "metadata": {},
     "output_type": "display_data"
    },
    {
     "data": {
      "image/png": "[encoded data removed]",
      "text/plain": [
       "<Figure size 640x480 with 1 Axes>"
      ]
     },
     "metadata": {},
     "output_type": "display_data"
    },
    {
     "data": {
      "text/plain": [
       "(<VertexPropertyMap object with value type 'vector<double>', for Graph 0x1548fe4c10f0, at 0x1548fdee6590>,\n",
       " <GraphView object, directed, with 106 vertices and 105 edges, edges filtered by (<EdgePropertyMap object with value type 'bool', for Graph 0x1548fe4c0a90, at 0x1548fe6388e0>, False), vertices filtered by (<VertexPropertyMap object with value type 'bool', for Graph 0x1548fe4c0a90, at 0x1548fe35b010>, False), at 0x1548fe4c0a90>,\n",
       " <VertexPropertyMap object with value type 'vector<double>', for Graph 0x1548fe4c0a90, at 0x1548fe4c09d0>)"
      ]
     },
     "execution_count": 137,
     "metadata": {},
     "output_type": "execute_result"
    }
   ],
   "source": [
    "# ordered structure\n",
    "n_blocks = 5\n",
    "while True:\n",
    "    block_idx = torch.tensor(random.choices(torch.arange(15, 25), k=n_blocks-1))\n",
    "    block_idx = torch.cumsum(block_idx, dim=0)\n",
    "    if block_idx[-1] < n:\n",
    "        break\n",
    "block_idx = torch.cat((torch.tensor([0]), block_idx, torch.tensor([n])))\n",
    "\n",
    "A_ordered = torch.rand(n, n) < p_sparse\n",
    "for i in range(n_blocks-1):\n",
    "    A_ordered[block_idx[i]:block_idx[i+1], block_idx[i]:block_idx[i+2]] = torch.rand(block_idx[i+1]-block_idx[i], block_idx[i+2]-block_idx[i]) < p_dense\n",
    "A_ordered[block_idx[-2]:block_idx[-1], block_idx[-2]:block_idx[-1]] = torch.rand(block_idx[-1]-block_idx[-2], block_idx[-1]-block_idx[-2]) < p_dense\n",
    "\n",
    "plt.imshow(1 - A_ordered.float(), cmap='gray')\n",
    "plt.axis('off')\n",
    "plt.show()\n",
    "\n",
    "G_gt = gt.Graph(directed=True)\n",
    "G_gt.add_edge_list(A_ordered.nonzero().numpy())\n",
    "\n",
    "state = gt.minimize_nested_blockmodel_dl(G_gt)\n",
    "blockstate = state.get_levels()[0]\n",
    "b = gt.contiguous_map(blockstate.get_blocks())\n",
    "blockstate = blockstate.copy(b=b)\n",
    "\n",
    "propert_map = blockstate.get_blocks()\n",
    "propert_map = torch.tensor(propert_map)\n",
    "\n",
    "perm = torch.argsort(propert_map)\n",
    "A_ordered = A_ordered[perm][:, perm]\n",
    "\n",
    "plt.imshow(1 - A_ordered.float(), cmap='gray')\n",
    "plt.axis('off')\n",
    "plt.show()\n",
    "\n",
    "e = blockstate.get_matrix()\n",
    "B = blockstate.get_nonempty_B()\n",
    "t = e.toarray()[:B, :B]\n",
    "\n",
    "# Create new edge property (ep) named \"t\" and for each edge e=(u, v) set ep[e] = t[B_u, B_v]\n",
    "ep = G_gt.new_edge_property(\"double\")\n",
    "for e in G_gt.edges():\n",
    "    u, v = e\n",
    "    ep[e] = t[propert_map[int(u)], propert_map[int(v)]]\n",
    "G_gt.ep['t'] = ep\n",
    "\n",
    "edge_color = G_gt.ep['t']\n",
    "\n",
    "state.draw(output_size=(400, 400), output=\"ordered.png\", eorder=edge_color, edge_pen_width=gt.prop_to_size(edge_color, mi=0.5, ma=2, power=1, log=False))"
   ]
  },
  {
   "cell_type": "code",
   "execution_count": 120,
   "metadata": {},
   "outputs": [
    {
     "data": {
      "text/plain": [
       "(<VertexPropertyMap object with value type 'vector<double>', for Graph 0x1548fe604820, at 0x1548ffd04e20>,\n",
       " <GraphView object, directed, with 106 vertices and 105 edges, edges filtered by (<EdgePropertyMap object with value type 'bool', for Graph 0x1548fe024c40, at 0x1548ffd06560>, False), vertices filtered by (<VertexPropertyMap object with value type 'bool', for Graph 0x1548fe024c40, at 0x1548fe0279d0>, False), at 0x1548fe024c40>,\n",
       " <VertexPropertyMap object with value type 'vector<double>', for Graph 0x1548fe024c40, at 0x1548fde8af50>)"
      ]
     },
     "execution_count": 120,
     "metadata": {},
     "output_type": "execute_result"
    }
   ],
   "source": [
    "vertex_order = blockstate.get_blocks()\n",
    "# reorder the vertices with perm of blocks :\n",
    "perm = [2, 1, 0, 3, 4]\n",
    "new_property = []\n",
    "for v in vertex_order:\n",
    "    new_property.append(perm[v])\n",
    "vertex_order.set_values(new_property)\n",
    "state.draw(output_size=(400, 400), output=\"ordered.png\", vorder=vertex_order, eorder=edge_color, edge_pen_width=gt.prop_to_size(edge_color, mi=0.5, ma=2, power=1, log=False))"
   ]
  }
 ],
 "metadata": {
  "kernelspec": {
   "display_name": "Python 3",
   "language": "python",
   "name": "python3"
  },
  "language_info": {
   "codemirror_mode": {
    "name": "ipython",
    "version": 3
   },
   "file_extension": ".py",
   "mimetype": "text/x-python",
   "name": "python",
   "nbconvert_exporter": "python",
   "pygments_lexer": "ipython3",
   "version": "3.10.13"
  }
 },
 "nbformat": 4,
 "nbformat_minor": 2
}
